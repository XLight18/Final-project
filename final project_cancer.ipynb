{
 "cells": [
  {
   "cell_type": "markdown",
   "metadata": {},
   "source": [
    "### Group:Yan Xu, FuHua Song, Yuwei Deng\n",
    "\n",
    "\n",
    "# Introduction"
   ]
  },
  {
   "cell_type": "markdown",
   "metadata": {},
   "source": [
    "## What question are you answering with your project?"
   ]
  },
  {
   "cell_type": "markdown",
   "metadata": {},
   "source": [
    "I hope to use this county based cancer information set to discuss which factors at the socio-economic level will affect cancer mortality.\n",
    "\n",
    "Of course, this is only a cross-sectional data. It is difficult for us to see the changes of these factors over time, and too many covariates also make it difficult for us to achieve the balance between covariates, so as to estimate the causal effect of individual variables. Therefore, I do not intend to make causal inference here.\n",
    "\n",
    "\n",
    "More is correlation analysis, trying to find some variables that we are not used to, but have an impact on cancer mortality"
   ]
  },
  {
   "cell_type": "markdown",
   "metadata": {},
   "source": [
    "## Why should we care about this question?"
   ]
  },
  {
   "cell_type": "markdown",
   "metadata": {},
   "source": [
    "First of all, if we look at it from a human point of view, cancer is very important. In recent years, the incidence of cancer and the social and economic burden of cancer have gradually increased, and the importance of cancer as a topic has increased significantly.\n",
    "\n",
    "Secondly, the onset of cancer and the death from cancer are now increasingly two separate things, especially with the advances in medical treatment. Even if they do, a significant proportion of cancers are currently curable if they have good health insurance or are financially sound. So, socioeconomic factors have an impact on cancer mortality, and they have a significant impact, both indirectly through socioeconomic factors that influence individual behavioral factors (some of which may lead to cancer) and directly, mainly on patients' ability and resources to access treatment. So I wanted to look at what socioeconomic factors are important for cancer mortality, and obviously, it's very important."
   ]
  },
  {
   "cell_type": "markdown",
   "metadata": {},
   "source": [
    "## A brief literature review"
   ]
  },
  {
   "cell_type": "markdown",
   "metadata": {},
   "source": [
    "Studies have shown that social inequality in cancer persists and changes over time [1]. Some scholars based on geographical coding and use based on the regional social and economic measures, using different single variable and comprehensive regional social and economic measures, to investigate their relationship with the cancer mortality, the results show that the measurement methods including economic poverty data is the most powerful, can be detected only measure cannot be observed by education and wealth gradient [2]; Poor people and those in rural areas have higher cancer deaths than wealthier people and urban residents, and are at higher risk of lung, colorectal, prostate and cervical cancer. Socioeconomic inequality exists for both whites and blacks, and in every deprivation group, blacks have a higher death rate from every type of cancer than whites. Differences in mortality rates may reflect inequalities in smoking and other cancer risk factors, screening and treatment. [3] and for different types of cancer and the relationship between socioeconomic status and research, and the incidence of cancer mortality in the United States in 1950-2014 / social and economic and racial and ethnic differences, education and income inequality for increased death rates for all cancers have a positive impact, in poor communities and ethnic groups, The survival rate of cancer patients is significantly lower [4].\n",
    "\n",
    "［１］Singh GK, Miller BA, Hankey BF, Edwards BK. Area Socioeconomic Variations in U.S. Cancer Incidence,Mortality, Stage, Treatment, and Survival, 1975–1999. NCI Cancer Surveillance Monograph Series,Number 4. Bethesda, MD: National Cancer Institute, 2003. NIH Publication No. 03-0000. \n",
    "\n",
    "［２］Krieger, N., Chen, J. T., Waterman, P. D., Soobader, M. J., & Subramanian, S. V. (2002). Carson: Geocoding and monitoring of US socioeconomic inequalities in mortality and cancer incidence: does the choice of area-based measure and geographic level matter. The Public Health Disparities Geocoding Project. Am J Epidemiol, 156, 471-482.\n",
    "\n",
    "［３］Singh, G. K., Williams, S. D., Siahpush, M., & Mulhollen, A. (2011). Socioeconomic, rural-urban, and racial inequalities in US cancer mortality: part I—all cancers and lung cancer and part II—colorectal, prostate, breast, and cervical cancers. Journal of cancer epidemiology, 2011.\n",
    "\n",
    "［４］Singh, G. K., & Jemal, A. (2017). Socioeconomic and racial/ethnic disparities in cancer mortality, incidence, and survival in the United States, 1950–2014: over six decades of changing patterns and widening inequalities. Journal of environmental and public health, 2017."
   ]
  },
  {
   "cell_type": "markdown",
   "metadata": {},
   "source": [
    "# Data"
   ]
  },
  {
   "cell_type": "code",
   "execution_count": 2,
   "metadata": {},
   "outputs": [
    {
     "name": "stderr",
     "output_type": "stream",
     "text": [
      "C:\\Users\\1\\Anaconda3\\lib\\site-packages\\statsmodels\\compat\\pandas.py:49: FutureWarning: The Panel class is removed from pandas. Accessing it from the top-level namespace will also be removed in the next version\n",
      "  data_klasses = (pandas.Series, pandas.DataFrame, pandas.Panel)\n"
     ]
    }
   ],
   "source": [
    "# data wrangling tools\n",
    "import pandas as pd\n",
    "import numpy as np\n",
    "\n",
    "# visualization\n",
    "import matplotlib.pyplot as plt\n",
    "%matplotlib inline\n",
    "import seaborn as sns\n",
    "\n",
    "# statistical analysis\n",
    "import statsmodels.api as sm\n",
    "from statsmodels.stats.outliers_influence import variance_inflation_factor\n",
    "\n",
    "\n",
    "import time"
   ]
  },
  {
   "cell_type": "markdown",
   "metadata": {},
   "source": [
    "## Describe the source(s) of the data"
   ]
  },
  {
   "cell_type": "markdown",
   "metadata": {},
   "source": [
    "\"These data were aggregated from a number of sources including the American Community Survey (census.gov), clinicaltrials.gov, and cancer.gov. Most of the data preparation process can be veiwed here.\"\n",
    "\n",
    "source:https://data.world/nrippner/ols-regression-challenge."
   ]
  },
  {
   "cell_type": "markdown",
   "metadata": {},
   "source": [
    "The original purpose of providing this data set was to construct a multivariate regression to predict the incidence of cancer. I'm not so concerned with prediction, but rather to study what factors contribute to cancer mortality, which is, of course, two sides of the same coin. Let me list the dictionary of the data and then explore the data."
   ]
  },
  {
   "cell_type": "markdown",
   "metadata": {},
   "source": [
    "Data Dictionary：\n",
    "\n",
    "TARGET_deathRate: Dependent variable. Mean per capita (100,000) cancer mortalities(a)\n",
    "\n",
    "avgAnnCount: Mean number of reported cases of cancer diagnosed annually(a)\n",
    "\n",
    "avgDeathsPerYear: Mean number of reported mortalities due to cancer(a)\n",
    "\n",
    "incidenceRate: Mean per capita (100,000) cancer diagoses(a)\n",
    "\n",
    "medianIncome: Median income per county (b)\n",
    "\n",
    "popEst2015: Population of county (b)\n",
    "\n",
    "povertyPercent: Percent of populace in poverty (b)\n",
    "\n",
    "studyPerCap: Per capita number of cancer-related clinical trials per county (a)\n",
    "\n",
    "binnedInc: Median income per capita binned by decile (b)\n",
    "\n",
    "MedianAge: Median age of county residents (b)\n",
    "\n",
    "MedianAgeMale: Median age of male county residents (b)\n",
    "\n",
    "MedianAgeFemale: Median age of female county residents (b)\n",
    "\n",
    "Geography: County name (b)\n",
    "\n",
    "AvgHouseholdSize: Mean household size of county (b)\n",
    "\n",
    "PercentMarried: Percent of county residents who are married (b)\n",
    "\n",
    "PctNoHS18_24: Percent of county residents ages 18-24 highest education attained: less than high school (b)\n",
    "\n",
    "PctHS18_24: Percent of county residents ages 18-24 highest education attained: high school diploma (b)\n",
    "\n",
    "PctSomeCol18_24: Percent of county residents ages 18-24 highest education attained: some college (b)\n",
    "\n",
    "PctBachDeg18_24: Percent of county residents ages 18-24 highest education attained: bachelor's degree (b)\n",
    "\n",
    "PctHS25_Over: Percent of county residents ages 25 and over highest education attained: high school diploma (b)\n",
    "\n",
    "PctBachDeg25_Over: Percent of county residents ages 25 and over highest education attained: bachelor's degree (b)\n",
    "\n",
    "PctEmployed16_Over: Percent of county residents ages 16 and over employed (b)\n",
    "\n",
    "PctUnemployed16_Over: Percent of county residents ages 16 and over unemployed (b)\n",
    "\n",
    "PctPrivateCoverage: Percent of county residents with private health coverage (b)\n",
    "\n",
    "PctPrivateCoverageAlone: Percent of county residents with private health coverage alone (no public assistance) (b)\n",
    "\n",
    "PctEmpPrivCoverage: Percent of county residents with employee-provided private health coverage (b)\n",
    "\n",
    "PctPublicCoverage: Percent of county residents with government-provided health coverage (b)\n",
    "\n",
    "PctPubliceCoverageAlone: Percent of county residents with government-provided health coverage alone (b)\n",
    "\n",
    "PctWhite: Percent of county residents who identify as White (b)\n",
    "\n",
    "PctBlack: Percent of county residents who identify as Black (b)\n",
    "\n",
    "PctAsian: Percent of county residents who identify as Asian (b)\n",
    "\n",
    "PctOtherRace: Percent of county residents who identify in a category which is not White, Black, or Asian (b)\n",
    "\n",
    "PctMarriedHouseholds: Percent of married households (b)\n",
    "\n",
    "BirthRate: Number of live births relative to number of women in county (b)\n",
    "\n",
    "(a): years 2010-2016\n",
    "\n",
    "(b): 2013 Census Estimates\n"
   ]
  },
  {
   "cell_type": "markdown",
   "metadata": {},
   "source": [
    "\n",
    "Here we import the data and conduct basic analysis of the data.\n"
   ]
  },
  {
   "cell_type": "code",
   "execution_count": 4,
   "metadata": {},
   "outputs": [
    {
     "data": {
      "text/html": [
       "<div>\n",
       "<style scoped>\n",
       "    .dataframe tbody tr th:only-of-type {\n",
       "        vertical-align: middle;\n",
       "    }\n",
       "\n",
       "    .dataframe tbody tr th {\n",
       "        vertical-align: top;\n",
       "    }\n",
       "\n",
       "    .dataframe thead th {\n",
       "        text-align: right;\n",
       "    }\n",
       "</style>\n",
       "<table border=\"1\" class=\"dataframe\">\n",
       "  <thead>\n",
       "    <tr style=\"text-align: right;\">\n",
       "      <th></th>\n",
       "      <th>TARGET_deathRate</th>\n",
       "      <th>avgAnnCount</th>\n",
       "      <th>avgDeathsPerYear</th>\n",
       "      <th>incidenceRate</th>\n",
       "      <th>medIncome</th>\n",
       "      <th>popEst2015</th>\n",
       "      <th>povertyPercent</th>\n",
       "      <th>studyPerCap</th>\n",
       "      <th>binnedInc</th>\n",
       "      <th>MedianAge</th>\n",
       "      <th>...</th>\n",
       "      <th>PctPrivateCoverageAlone</th>\n",
       "      <th>PctEmpPrivCoverage</th>\n",
       "      <th>PctPublicCoverage</th>\n",
       "      <th>PctPublicCoverageAlone</th>\n",
       "      <th>PctWhite</th>\n",
       "      <th>PctBlack</th>\n",
       "      <th>PctAsian</th>\n",
       "      <th>PctOtherRace</th>\n",
       "      <th>PctMarriedHouseholds</th>\n",
       "      <th>BirthRate</th>\n",
       "    </tr>\n",
       "  </thead>\n",
       "  <tbody>\n",
       "    <tr>\n",
       "      <th>0</th>\n",
       "      <td>164.9</td>\n",
       "      <td>1397.0</td>\n",
       "      <td>469</td>\n",
       "      <td>489.8</td>\n",
       "      <td>61898</td>\n",
       "      <td>260131</td>\n",
       "      <td>11.2</td>\n",
       "      <td>499.748204</td>\n",
       "      <td>(61494.5, 125635]</td>\n",
       "      <td>39.3</td>\n",
       "      <td>...</td>\n",
       "      <td>NaN</td>\n",
       "      <td>41.6</td>\n",
       "      <td>32.9</td>\n",
       "      <td>14.0</td>\n",
       "      <td>81.780529</td>\n",
       "      <td>2.594728</td>\n",
       "      <td>4.821857</td>\n",
       "      <td>1.843479</td>\n",
       "      <td>52.856076</td>\n",
       "      <td>6.118831</td>\n",
       "    </tr>\n",
       "    <tr>\n",
       "      <th>1</th>\n",
       "      <td>161.3</td>\n",
       "      <td>173.0</td>\n",
       "      <td>70</td>\n",
       "      <td>411.6</td>\n",
       "      <td>48127</td>\n",
       "      <td>43269</td>\n",
       "      <td>18.6</td>\n",
       "      <td>23.111234</td>\n",
       "      <td>(48021.6, 51046.4]</td>\n",
       "      <td>33.0</td>\n",
       "      <td>...</td>\n",
       "      <td>53.8</td>\n",
       "      <td>43.6</td>\n",
       "      <td>31.1</td>\n",
       "      <td>15.3</td>\n",
       "      <td>89.228509</td>\n",
       "      <td>0.969102</td>\n",
       "      <td>2.246233</td>\n",
       "      <td>3.741352</td>\n",
       "      <td>45.372500</td>\n",
       "      <td>4.333096</td>\n",
       "    </tr>\n",
       "    <tr>\n",
       "      <th>2</th>\n",
       "      <td>174.7</td>\n",
       "      <td>102.0</td>\n",
       "      <td>50</td>\n",
       "      <td>349.7</td>\n",
       "      <td>49348</td>\n",
       "      <td>21026</td>\n",
       "      <td>14.6</td>\n",
       "      <td>47.560164</td>\n",
       "      <td>(48021.6, 51046.4]</td>\n",
       "      <td>45.0</td>\n",
       "      <td>...</td>\n",
       "      <td>43.5</td>\n",
       "      <td>34.9</td>\n",
       "      <td>42.1</td>\n",
       "      <td>21.1</td>\n",
       "      <td>90.922190</td>\n",
       "      <td>0.739673</td>\n",
       "      <td>0.465898</td>\n",
       "      <td>2.747358</td>\n",
       "      <td>54.444868</td>\n",
       "      <td>3.729488</td>\n",
       "    </tr>\n",
       "    <tr>\n",
       "      <th>3</th>\n",
       "      <td>194.8</td>\n",
       "      <td>427.0</td>\n",
       "      <td>202</td>\n",
       "      <td>430.4</td>\n",
       "      <td>44243</td>\n",
       "      <td>75882</td>\n",
       "      <td>17.1</td>\n",
       "      <td>342.637253</td>\n",
       "      <td>(42724.4, 45201]</td>\n",
       "      <td>42.8</td>\n",
       "      <td>...</td>\n",
       "      <td>40.3</td>\n",
       "      <td>35.0</td>\n",
       "      <td>45.3</td>\n",
       "      <td>25.0</td>\n",
       "      <td>91.744686</td>\n",
       "      <td>0.782626</td>\n",
       "      <td>1.161359</td>\n",
       "      <td>1.362643</td>\n",
       "      <td>51.021514</td>\n",
       "      <td>4.603841</td>\n",
       "    </tr>\n",
       "    <tr>\n",
       "      <th>4</th>\n",
       "      <td>144.4</td>\n",
       "      <td>57.0</td>\n",
       "      <td>26</td>\n",
       "      <td>350.1</td>\n",
       "      <td>49955</td>\n",
       "      <td>10321</td>\n",
       "      <td>12.5</td>\n",
       "      <td>0.000000</td>\n",
       "      <td>(48021.6, 51046.4]</td>\n",
       "      <td>48.3</td>\n",
       "      <td>...</td>\n",
       "      <td>43.9</td>\n",
       "      <td>35.1</td>\n",
       "      <td>44.0</td>\n",
       "      <td>22.7</td>\n",
       "      <td>94.104024</td>\n",
       "      <td>0.270192</td>\n",
       "      <td>0.665830</td>\n",
       "      <td>0.492135</td>\n",
       "      <td>54.027460</td>\n",
       "      <td>6.796657</td>\n",
       "    </tr>\n",
       "  </tbody>\n",
       "</table>\n",
       "<p>5 rows × 34 columns</p>\n",
       "</div>"
      ],
      "text/plain": [
       "   TARGET_deathRate  avgAnnCount  avgDeathsPerYear  incidenceRate  medIncome  \\\n",
       "0             164.9       1397.0               469          489.8      61898   \n",
       "1             161.3        173.0                70          411.6      48127   \n",
       "2             174.7        102.0                50          349.7      49348   \n",
       "3             194.8        427.0               202          430.4      44243   \n",
       "4             144.4         57.0                26          350.1      49955   \n",
       "\n",
       "   popEst2015  povertyPercent  studyPerCap           binnedInc  MedianAge  \\\n",
       "0      260131            11.2   499.748204   (61494.5, 125635]       39.3   \n",
       "1       43269            18.6    23.111234  (48021.6, 51046.4]       33.0   \n",
       "2       21026            14.6    47.560164  (48021.6, 51046.4]       45.0   \n",
       "3       75882            17.1   342.637253    (42724.4, 45201]       42.8   \n",
       "4       10321            12.5     0.000000  (48021.6, 51046.4]       48.3   \n",
       "\n",
       "   ...  PctPrivateCoverageAlone  PctEmpPrivCoverage PctPublicCoverage  \\\n",
       "0  ...                      NaN                41.6              32.9   \n",
       "1  ...                     53.8                43.6              31.1   \n",
       "2  ...                     43.5                34.9              42.1   \n",
       "3  ...                     40.3                35.0              45.3   \n",
       "4  ...                     43.9                35.1              44.0   \n",
       "\n",
       "   PctPublicCoverageAlone   PctWhite  PctBlack  PctAsian  PctOtherRace  \\\n",
       "0                    14.0  81.780529  2.594728  4.821857      1.843479   \n",
       "1                    15.3  89.228509  0.969102  2.246233      3.741352   \n",
       "2                    21.1  90.922190  0.739673  0.465898      2.747358   \n",
       "3                    25.0  91.744686  0.782626  1.161359      1.362643   \n",
       "4                    22.7  94.104024  0.270192  0.665830      0.492135   \n",
       "\n",
       "   PctMarriedHouseholds  BirthRate  \n",
       "0             52.856076   6.118831  \n",
       "1             45.372500   4.333096  \n",
       "2             54.444868   3.729488  \n",
       "3             51.021514   4.603841  \n",
       "4             54.027460   6.796657  \n",
       "\n",
       "[5 rows x 34 columns]"
      ]
     },
     "execution_count": 4,
     "metadata": {},
     "output_type": "execute_result"
    }
   ],
   "source": [
    "import pandas as pd\n",
    "import numpy as np\n",
    "import matplotlib as mp\n",
    "import seaborn as sb\n",
    "\n",
    "pcancer = \"./data/cancer_reg.csv\"\n",
    "df = pd.read_csv(pcancer)\n",
    "\n",
    "df.head()"
   ]
  },
  {
   "cell_type": "code",
   "execution_count": 5,
   "metadata": {},
   "outputs": [
    {
     "name": "stdout",
     "output_type": "stream",
     "text": [
      "<class 'pandas.core.frame.DataFrame'>\n",
      "RangeIndex: 3047 entries, 0 to 3046\n",
      "Data columns (total 34 columns):\n",
      " #   Column                   Non-Null Count  Dtype  \n",
      "---  ------                   --------------  -----  \n",
      " 0   TARGET_deathRate         3047 non-null   float64\n",
      " 1   avgAnnCount              3047 non-null   float64\n",
      " 2   avgDeathsPerYear         3047 non-null   int64  \n",
      " 3   incidenceRate            3047 non-null   float64\n",
      " 4   medIncome                3047 non-null   int64  \n",
      " 5   popEst2015               3047 non-null   int64  \n",
      " 6   povertyPercent           3047 non-null   float64\n",
      " 7   studyPerCap              3047 non-null   float64\n",
      " 8   binnedInc                3047 non-null   object \n",
      " 9   MedianAge                3047 non-null   float64\n",
      " 10  MedianAgeMale            3047 non-null   float64\n",
      " 11  MedianAgeFemale          3047 non-null   float64\n",
      " 12  Geography                3047 non-null   object \n",
      " 13  AvgHouseholdSize         3047 non-null   float64\n",
      " 14  PercentMarried           3047 non-null   float64\n",
      " 15  PctNoHS18_24             3047 non-null   float64\n",
      " 16  PctHS18_24               3047 non-null   float64\n",
      " 17  PctSomeCol18_24          762 non-null    float64\n",
      " 18  PctBachDeg18_24          3047 non-null   float64\n",
      " 19  PctHS25_Over             3047 non-null   float64\n",
      " 20  PctBachDeg25_Over        3047 non-null   float64\n",
      " 21  PctEmployed16_Over       2895 non-null   float64\n",
      " 22  PctUnemployed16_Over     3047 non-null   float64\n",
      " 23  PctPrivateCoverage       3047 non-null   float64\n",
      " 24  PctPrivateCoverageAlone  2438 non-null   float64\n",
      " 25  PctEmpPrivCoverage       3047 non-null   float64\n",
      " 26  PctPublicCoverage        3047 non-null   float64\n",
      " 27  PctPublicCoverageAlone   3047 non-null   float64\n",
      " 28  PctWhite                 3047 non-null   float64\n",
      " 29  PctBlack                 3047 non-null   float64\n",
      " 30  PctAsian                 3047 non-null   float64\n",
      " 31  PctOtherRace             3047 non-null   float64\n",
      " 32  PctMarriedHouseholds     3047 non-null   float64\n",
      " 33  BirthRate                3047 non-null   float64\n",
      "dtypes: float64(29), int64(3), object(2)\n",
      "memory usage: 809.5+ KB\n"
     ]
    }
   ],
   "source": [
    "# Check the data profile.\n",
    "df.info()"
   ]
  },
  {
   "cell_type": "code",
   "execution_count": 6,
   "metadata": {},
   "outputs": [
    {
     "name": "stdout",
     "output_type": "stream",
     "text": [
      "('TARGET_deathRate', 0)\n",
      "('avgAnnCount', 0)\n",
      "('avgDeathsPerYear', 0)\n",
      "('incidenceRate', 0)\n",
      "('medIncome', 0)\n",
      "('popEst2015', 0)\n",
      "('povertyPercent', 0)\n",
      "('studyPerCap', 0)\n",
      "('binnedInc', 0)\n",
      "('MedianAge', 0)\n",
      "('MedianAgeMale', 0)\n",
      "('MedianAgeFemale', 0)\n",
      "('Geography', 0)\n",
      "('AvgHouseholdSize', 0)\n",
      "('PercentMarried', 0)\n",
      "('PctNoHS18_24', 0)\n",
      "('PctHS18_24', 0)\n",
      "('PctSomeCol18_24', 2285)\n",
      "('PctBachDeg18_24', 0)\n",
      "('PctHS25_Over', 0)\n",
      "('PctBachDeg25_Over', 0)\n",
      "('PctEmployed16_Over', 152)\n",
      "('PctUnemployed16_Over', 0)\n",
      "('PctPrivateCoverage', 0)\n",
      "('PctPrivateCoverageAlone', 609)\n",
      "('PctEmpPrivCoverage', 0)\n",
      "('PctPublicCoverage', 0)\n",
      "('PctPublicCoverageAlone', 0)\n",
      "('PctWhite', 0)\n",
      "('PctBlack', 0)\n",
      "('PctAsian', 0)\n",
      "('PctOtherRace', 0)\n",
      "('PctMarriedHouseholds', 0)\n",
      "('BirthRate', 0)\n"
     ]
    }
   ],
   "source": [
    "# check for null values\n",
    "for col in df.columns:\n",
    "    print((col, sum(df[col].isnull())))"
   ]
  },
  {
   "cell_type": "markdown",
   "metadata": {},
   "source": [
    "'PctSomeCol18_24' has more missing values.\n",
    "\n",
    "Noting that it was completely correlated with the other three 18-24 year old educational variables, it was removed."
   ]
  },
  {
   "cell_type": "code",
   "execution_count": 7,
   "metadata": {},
   "outputs": [],
   "source": [
    "df.drop(\n",
    "    columns=[\n",
    "        'PctSomeCol18_24' ],\n",
    "    inplace=True)"
   ]
  },
  {
   "cell_type": "code",
   "execution_count": 8,
   "metadata": {
    "scrolled": true
   },
   "outputs": [
    {
     "data": {
      "text/html": [
       "<div>\n",
       "<style scoped>\n",
       "    .dataframe tbody tr th:only-of-type {\n",
       "        vertical-align: middle;\n",
       "    }\n",
       "\n",
       "    .dataframe tbody tr th {\n",
       "        vertical-align: top;\n",
       "    }\n",
       "\n",
       "    .dataframe thead th {\n",
       "        text-align: right;\n",
       "    }\n",
       "</style>\n",
       "<table border=\"1\" class=\"dataframe\">\n",
       "  <thead>\n",
       "    <tr style=\"text-align: right;\">\n",
       "      <th></th>\n",
       "      <th>TARGET_deathRate</th>\n",
       "      <th>avgAnnCount</th>\n",
       "      <th>avgDeathsPerYear</th>\n",
       "      <th>incidenceRate</th>\n",
       "      <th>medIncome</th>\n",
       "      <th>popEst2015</th>\n",
       "      <th>povertyPercent</th>\n",
       "      <th>studyPerCap</th>\n",
       "      <th>MedianAge</th>\n",
       "      <th>MedianAgeMale</th>\n",
       "      <th>...</th>\n",
       "      <th>PctPrivateCoverageAlone</th>\n",
       "      <th>PctEmpPrivCoverage</th>\n",
       "      <th>PctPublicCoverage</th>\n",
       "      <th>PctPublicCoverageAlone</th>\n",
       "      <th>PctWhite</th>\n",
       "      <th>PctBlack</th>\n",
       "      <th>PctAsian</th>\n",
       "      <th>PctOtherRace</th>\n",
       "      <th>PctMarriedHouseholds</th>\n",
       "      <th>BirthRate</th>\n",
       "    </tr>\n",
       "  </thead>\n",
       "  <tbody>\n",
       "    <tr>\n",
       "      <th>count</th>\n",
       "      <td>3047.000000</td>\n",
       "      <td>3047.000000</td>\n",
       "      <td>3047.000000</td>\n",
       "      <td>3047.000000</td>\n",
       "      <td>3047.000000</td>\n",
       "      <td>3.047000e+03</td>\n",
       "      <td>3047.000000</td>\n",
       "      <td>3047.000000</td>\n",
       "      <td>3047.000000</td>\n",
       "      <td>3047.000000</td>\n",
       "      <td>...</td>\n",
       "      <td>2438.000000</td>\n",
       "      <td>3047.000000</td>\n",
       "      <td>3047.000000</td>\n",
       "      <td>3047.000000</td>\n",
       "      <td>3047.000000</td>\n",
       "      <td>3047.000000</td>\n",
       "      <td>3047.000000</td>\n",
       "      <td>3047.000000</td>\n",
       "      <td>3047.000000</td>\n",
       "      <td>3047.000000</td>\n",
       "    </tr>\n",
       "    <tr>\n",
       "      <th>mean</th>\n",
       "      <td>178.664063</td>\n",
       "      <td>606.338544</td>\n",
       "      <td>185.965868</td>\n",
       "      <td>448.268586</td>\n",
       "      <td>47063.281917</td>\n",
       "      <td>1.026374e+05</td>\n",
       "      <td>16.878175</td>\n",
       "      <td>155.399415</td>\n",
       "      <td>45.272333</td>\n",
       "      <td>39.570725</td>\n",
       "      <td>...</td>\n",
       "      <td>48.453774</td>\n",
       "      <td>41.196324</td>\n",
       "      <td>36.252642</td>\n",
       "      <td>19.240072</td>\n",
       "      <td>83.645286</td>\n",
       "      <td>9.107978</td>\n",
       "      <td>1.253965</td>\n",
       "      <td>1.983523</td>\n",
       "      <td>51.243872</td>\n",
       "      <td>5.640306</td>\n",
       "    </tr>\n",
       "    <tr>\n",
       "      <th>std</th>\n",
       "      <td>27.751511</td>\n",
       "      <td>1416.356223</td>\n",
       "      <td>504.134286</td>\n",
       "      <td>54.560733</td>\n",
       "      <td>12040.090836</td>\n",
       "      <td>3.290592e+05</td>\n",
       "      <td>6.409087</td>\n",
       "      <td>529.628366</td>\n",
       "      <td>45.304480</td>\n",
       "      <td>5.226017</td>\n",
       "      <td>...</td>\n",
       "      <td>10.083006</td>\n",
       "      <td>9.447687</td>\n",
       "      <td>7.841741</td>\n",
       "      <td>6.113041</td>\n",
       "      <td>16.380025</td>\n",
       "      <td>14.534538</td>\n",
       "      <td>2.610276</td>\n",
       "      <td>3.517710</td>\n",
       "      <td>6.572814</td>\n",
       "      <td>1.985816</td>\n",
       "    </tr>\n",
       "    <tr>\n",
       "      <th>min</th>\n",
       "      <td>59.700000</td>\n",
       "      <td>6.000000</td>\n",
       "      <td>3.000000</td>\n",
       "      <td>201.300000</td>\n",
       "      <td>22640.000000</td>\n",
       "      <td>8.270000e+02</td>\n",
       "      <td>3.200000</td>\n",
       "      <td>0.000000</td>\n",
       "      <td>22.300000</td>\n",
       "      <td>22.400000</td>\n",
       "      <td>...</td>\n",
       "      <td>15.700000</td>\n",
       "      <td>13.500000</td>\n",
       "      <td>11.200000</td>\n",
       "      <td>2.600000</td>\n",
       "      <td>10.199155</td>\n",
       "      <td>0.000000</td>\n",
       "      <td>0.000000</td>\n",
       "      <td>0.000000</td>\n",
       "      <td>22.992490</td>\n",
       "      <td>0.000000</td>\n",
       "    </tr>\n",
       "    <tr>\n",
       "      <th>25%</th>\n",
       "      <td>161.200000</td>\n",
       "      <td>76.000000</td>\n",
       "      <td>28.000000</td>\n",
       "      <td>420.300000</td>\n",
       "      <td>38882.500000</td>\n",
       "      <td>1.168400e+04</td>\n",
       "      <td>12.150000</td>\n",
       "      <td>0.000000</td>\n",
       "      <td>37.700000</td>\n",
       "      <td>36.350000</td>\n",
       "      <td>...</td>\n",
       "      <td>41.000000</td>\n",
       "      <td>34.500000</td>\n",
       "      <td>30.900000</td>\n",
       "      <td>14.850000</td>\n",
       "      <td>77.296180</td>\n",
       "      <td>0.620675</td>\n",
       "      <td>0.254199</td>\n",
       "      <td>0.295172</td>\n",
       "      <td>47.763063</td>\n",
       "      <td>4.521419</td>\n",
       "    </tr>\n",
       "    <tr>\n",
       "      <th>50%</th>\n",
       "      <td>178.100000</td>\n",
       "      <td>171.000000</td>\n",
       "      <td>61.000000</td>\n",
       "      <td>453.549422</td>\n",
       "      <td>45207.000000</td>\n",
       "      <td>2.664300e+04</td>\n",
       "      <td>15.900000</td>\n",
       "      <td>0.000000</td>\n",
       "      <td>41.000000</td>\n",
       "      <td>39.600000</td>\n",
       "      <td>...</td>\n",
       "      <td>48.700000</td>\n",
       "      <td>41.100000</td>\n",
       "      <td>36.300000</td>\n",
       "      <td>18.800000</td>\n",
       "      <td>90.059774</td>\n",
       "      <td>2.247576</td>\n",
       "      <td>0.549812</td>\n",
       "      <td>0.826185</td>\n",
       "      <td>51.669941</td>\n",
       "      <td>5.381478</td>\n",
       "    </tr>\n",
       "    <tr>\n",
       "      <th>75%</th>\n",
       "      <td>195.200000</td>\n",
       "      <td>518.000000</td>\n",
       "      <td>149.000000</td>\n",
       "      <td>480.850000</td>\n",
       "      <td>52492.000000</td>\n",
       "      <td>6.867100e+04</td>\n",
       "      <td>20.400000</td>\n",
       "      <td>83.650776</td>\n",
       "      <td>44.000000</td>\n",
       "      <td>42.500000</td>\n",
       "      <td>...</td>\n",
       "      <td>55.600000</td>\n",
       "      <td>47.700000</td>\n",
       "      <td>41.550000</td>\n",
       "      <td>23.100000</td>\n",
       "      <td>95.451693</td>\n",
       "      <td>10.509732</td>\n",
       "      <td>1.221037</td>\n",
       "      <td>2.177960</td>\n",
       "      <td>55.395132</td>\n",
       "      <td>6.493677</td>\n",
       "    </tr>\n",
       "    <tr>\n",
       "      <th>max</th>\n",
       "      <td>362.800000</td>\n",
       "      <td>38150.000000</td>\n",
       "      <td>14010.000000</td>\n",
       "      <td>1206.900000</td>\n",
       "      <td>125635.000000</td>\n",
       "      <td>1.017029e+07</td>\n",
       "      <td>47.400000</td>\n",
       "      <td>9762.308998</td>\n",
       "      <td>624.000000</td>\n",
       "      <td>64.700000</td>\n",
       "      <td>...</td>\n",
       "      <td>78.900000</td>\n",
       "      <td>70.700000</td>\n",
       "      <td>65.100000</td>\n",
       "      <td>46.600000</td>\n",
       "      <td>100.000000</td>\n",
       "      <td>85.947799</td>\n",
       "      <td>42.619425</td>\n",
       "      <td>41.930251</td>\n",
       "      <td>78.075397</td>\n",
       "      <td>21.326165</td>\n",
       "    </tr>\n",
       "  </tbody>\n",
       "</table>\n",
       "<p>8 rows × 31 columns</p>\n",
       "</div>"
      ],
      "text/plain": [
       "       TARGET_deathRate   avgAnnCount  avgDeathsPerYear  incidenceRate  \\\n",
       "count       3047.000000   3047.000000       3047.000000    3047.000000   \n",
       "mean         178.664063    606.338544        185.965868     448.268586   \n",
       "std           27.751511   1416.356223        504.134286      54.560733   \n",
       "min           59.700000      6.000000          3.000000     201.300000   \n",
       "25%          161.200000     76.000000         28.000000     420.300000   \n",
       "50%          178.100000    171.000000         61.000000     453.549422   \n",
       "75%          195.200000    518.000000        149.000000     480.850000   \n",
       "max          362.800000  38150.000000      14010.000000    1206.900000   \n",
       "\n",
       "           medIncome    popEst2015  povertyPercent  studyPerCap    MedianAge  \\\n",
       "count    3047.000000  3.047000e+03     3047.000000  3047.000000  3047.000000   \n",
       "mean    47063.281917  1.026374e+05       16.878175   155.399415    45.272333   \n",
       "std     12040.090836  3.290592e+05        6.409087   529.628366    45.304480   \n",
       "min     22640.000000  8.270000e+02        3.200000     0.000000    22.300000   \n",
       "25%     38882.500000  1.168400e+04       12.150000     0.000000    37.700000   \n",
       "50%     45207.000000  2.664300e+04       15.900000     0.000000    41.000000   \n",
       "75%     52492.000000  6.867100e+04       20.400000    83.650776    44.000000   \n",
       "max    125635.000000  1.017029e+07       47.400000  9762.308998   624.000000   \n",
       "\n",
       "       MedianAgeMale  ...  PctPrivateCoverageAlone  PctEmpPrivCoverage  \\\n",
       "count    3047.000000  ...              2438.000000         3047.000000   \n",
       "mean       39.570725  ...                48.453774           41.196324   \n",
       "std         5.226017  ...                10.083006            9.447687   \n",
       "min        22.400000  ...                15.700000           13.500000   \n",
       "25%        36.350000  ...                41.000000           34.500000   \n",
       "50%        39.600000  ...                48.700000           41.100000   \n",
       "75%        42.500000  ...                55.600000           47.700000   \n",
       "max        64.700000  ...                78.900000           70.700000   \n",
       "\n",
       "       PctPublicCoverage  PctPublicCoverageAlone     PctWhite     PctBlack  \\\n",
       "count        3047.000000             3047.000000  3047.000000  3047.000000   \n",
       "mean           36.252642               19.240072    83.645286     9.107978   \n",
       "std             7.841741                6.113041    16.380025    14.534538   \n",
       "min            11.200000                2.600000    10.199155     0.000000   \n",
       "25%            30.900000               14.850000    77.296180     0.620675   \n",
       "50%            36.300000               18.800000    90.059774     2.247576   \n",
       "75%            41.550000               23.100000    95.451693    10.509732   \n",
       "max            65.100000               46.600000   100.000000    85.947799   \n",
       "\n",
       "          PctAsian  PctOtherRace  PctMarriedHouseholds    BirthRate  \n",
       "count  3047.000000   3047.000000           3047.000000  3047.000000  \n",
       "mean      1.253965      1.983523             51.243872     5.640306  \n",
       "std       2.610276      3.517710              6.572814     1.985816  \n",
       "min       0.000000      0.000000             22.992490     0.000000  \n",
       "25%       0.254199      0.295172             47.763063     4.521419  \n",
       "50%       0.549812      0.826185             51.669941     5.381478  \n",
       "75%       1.221037      2.177960             55.395132     6.493677  \n",
       "max      42.619425     41.930251             78.075397    21.326165  \n",
       "\n",
       "[8 rows x 31 columns]"
      ]
     },
     "execution_count": 8,
     "metadata": {},
     "output_type": "execute_result"
    }
   ],
   "source": [
    "df.describe()"
   ]
  },
  {
   "cell_type": "markdown",
   "metadata": {},
   "source": [
    "There are a total of 34 columns of data, among which the data structure of two columns is Object. We deleted another column of missing value data that is completely collinear.\n",
    "\n",
    "Let's move on to the next step of data processing."
   ]
  },
  {
   "cell_type": "markdown",
   "metadata": {},
   "source": [
    "## Discuss whether you are removing any outliers from your data, or doing any other sampling restrictions"
   ]
  },
  {
   "cell_type": "markdown",
   "metadata": {},
   "source": [
    "We have carried out basic data description in 2.1, and here we begin to further explore the data. \n",
    "\n",
    "The main thing is to remove some irrelevant variables and completely collinear variables."
   ]
  },
  {
   "cell_type": "code",
   "execution_count": 9,
   "metadata": {},
   "outputs": [
    {
     "name": "stdout",
     "output_type": "stream",
     "text": [
      "avgAnnCount avgDeathsPerYear (0.9394077833002424, 0.0)\n",
      "avgAnnCount incidenceRate (0.07355317474092074, 4.824956421274341e-05)\n",
      "avgDeathsPerYear incidenceRate (0.06268985661901177, 0.0005352945805501572)\n"
     ]
    }
   ],
   "source": [
    "# Check collinearity of major variables\n",
    "import pandas as pd\n",
    "import os\n",
    "from scipy import stats\n",
    "import itertools\n",
    "\n",
    "df_coll = df.loc[:, \"avgAnnCount\":\"incidenceRate\"]\n",
    "\n",
    "for t1, t2 in itertools.combinations(df_coll.columns, 2) :\n",
    "    print(t1, t2, stats.pearsonr(df_coll[t1], df_coll[t2]))"
   ]
  },
  {
   "cell_type": "markdown",
   "metadata": {},
   "source": [
    "According to the dictionary of the data download source, I guessed that \"TARGET_deathRate\" and \"avgDeathsPerYear\" are the same thing, which should be statistically positive and highly correlated, but the actual result is not so. \n",
    "\n",
    "For now, we cannot delete these columns of data rashly."
   ]
  },
  {
   "cell_type": "markdown",
   "metadata": {},
   "source": [
    "As for the proportion of county residents divided by race, it is obvious that there is complete multicollinearity. Here we keep white, black and Asian, and delete other.  \n",
    " \n",
    "I'm going to delete the county names,  \n"
   ]
  },
  {
   "cell_type": "code",
   "execution_count": 10,
   "metadata": {},
   "outputs": [
    {
     "data": {
      "text/plain": [
       "(-0.2668204635535114, 7.915546145134413e-51)"
      ]
     },
     "execution_count": 10,
     "metadata": {},
     "output_type": "execute_result"
    }
   ],
   "source": [
    "stats.pearsonr(df['TARGET_deathRate'],df['PercentMarried'])"
   ]
  },
  {
   "cell_type": "code",
   "execution_count": 11,
   "metadata": {},
   "outputs": [
    {
     "data": {
      "text/plain": [
       "(-0.29332534051013265, 1.596181606195986e-61)"
      ]
     },
     "execution_count": 11,
     "metadata": {},
     "output_type": "execute_result"
    }
   ],
   "source": [
    "stats.pearsonr(df['TARGET_deathRate'],df['PctMarriedHouseholds'])"
   ]
  },
  {
   "cell_type": "markdown",
   "metadata": {},
   "source": [
    " There are two columns of marriage data: \"PercentMarried\" and \"PctMarriedHouseholds,\" and we only keep one, and we decide which one to keep based on the correlation with the predicted value.  "
   ]
  },
  {
   "cell_type": "code",
   "execution_count": 12,
   "metadata": {
    "scrolled": true
   },
   "outputs": [
    {
     "data": {
      "text/plain": [
       "0        (61494.5, 125635]\n",
       "1       (48021.6, 51046.4]\n",
       "2       (48021.6, 51046.4]\n",
       "3         (42724.4, 45201]\n",
       "4       (48021.6, 51046.4]\n",
       "               ...        \n",
       "3042      (45201, 48021.6]\n",
       "3043    (48021.6, 51046.4]\n",
       "3044    (51046.4, 54545.6]\n",
       "3045    (48021.6, 51046.4]\n",
       "3046    (40362.7, 42724.4]\n",
       "Name: binnedInc, Length: 3047, dtype: object"
      ]
     },
     "execution_count": 12,
     "metadata": {},
     "output_type": "execute_result"
    }
   ],
   "source": [
    "df['binnedInc']"
   ]
  },
  {
   "cell_type": "markdown",
   "metadata": {},
   "source": [
    "Another data of object type is \"binnedInc\". As shown in the previous cell, it is Median income per capita binned by Decile. The data form is an interval of left open and right closed.\n",
    "\n",
    "Because we already have 'medianIncome', and the data type is number, easy to operate.\n",
    "\n",
    "Here, I attempt to transform the data of the interval, that is, the interval data form into the interval length, which is used to explain the income distribution and further explain the target variable. However, since there is no overall income distribution data, it is very far-fetched to only use a median income range, so we leave it at that, and need to obtain further income distribution data to improve the analysis. So I'm going to delete \"binnedInc\" as well."
   ]
  },
  {
   "cell_type": "code",
   "execution_count": 13,
   "metadata": {},
   "outputs": [],
   "source": [
    "df.drop(\n",
    "    columns=[\n",
    "        'PercentMarried','Geography','binnedInc','PctOtherRace' ],\n",
    "    inplace=True)"
   ]
  },
  {
   "cell_type": "markdown",
   "metadata": {},
   "source": [
    "So let's talk about outliers."
   ]
  },
  {
   "cell_type": "code",
   "execution_count": 29,
   "metadata": {},
   "outputs": [
    {
     "name": "stdout",
     "output_type": "stream",
     "text": [
      "min 59.7 max 362.8\n"
     ]
    },
    {
     "data": {
      "image/png": "[encoded data removed]",
      "text/plain": [
       "<Figure size 432x288 with 1 Axes>"
      ]
     },
     "metadata": {
      "needs_background": "light"
     },
     "output_type": "display_data"
    }
   ],
   "source": [
    "# Histogram to see TARGET_deathRate\n",
    "mhist=df['TARGET_deathRate'].values\n",
    "print(\"min\", mhist.min(), \"max\", mhist.max())\n",
    "plt.hist(mhist, bins=30)\n",
    "plt.show()"
   ]
  },
  {
   "cell_type": "markdown",
   "metadata": {},
   "source": [
    "It can be seen that the mortality data are mainly concentrated between [100,250], basically in line with normal distribution, without particularly large outliers, so deletion is not necessary here."
   ]
  },
  {
   "cell_type": "markdown",
   "metadata": {},
   "source": [
    "## Discuss whether you are transforming the data and/or merging/appending multiple datasets together"
   ]
  },
  {
   "cell_type": "markdown",
   "metadata": {},
   "source": [
    "\n",
    "\n",
    "At present, there is no need for special transformation of data.One of the more important reasons for the lack of manipulation is that the data set we are working with basically covers the major socioeconomic variables.\n",
    "\n",
    "If there is any relevant operation in the future analysis, it will be specially indicated.\n",
    "\n",
    "For example, in PCA, we bounded new variables composed of colinear variables with other variables."
   ]
  },
  {
   "cell_type": "markdown",
   "metadata": {},
   "source": [
    "## Show comprehensive summary statistics.\n",
    "    ■ Remember: summary statistics are a very important part of all applied work!"
   ]
  },
  {
   "cell_type": "code",
   "execution_count": 28,
   "metadata": {},
   "outputs": [
    {
     "name": "stdout",
     "output_type": "stream",
     "text": [
      "min 59.7 max 362.8\n"
     ]
    },
    {
     "data": {
      "image/png": "[encoded data removed]",
      "text/plain": [
       "<Figure size 432x288 with 1 Axes>"
      ]
     },
     "metadata": {
      "needs_background": "light"
     },
     "output_type": "display_data"
    }
   ],
   "source": [
    "# Histogram to see TARGET_deathRate\n",
    "mhist=df['TARGET_deathRate'].values\n",
    "print(\"min\", mhist.min(), \"max\", mhist.max())\n",
    "plt.hist(mhist, bins=30)\n",
    "plt.show()"
   ]
  },
  {
   "cell_type": "code",
   "execution_count": 245,
   "metadata": {},
   "outputs": [
    {
     "name": "stderr",
     "output_type": "stream",
     "text": [
      "C:\\Users\\1\\Anaconda3\\lib\\site-packages\\seaborn\\axisgrid.py:2065: UserWarning: The `size` parameter has been renamed to `height`; pleaes update your code.\n",
      "  warnings.warn(msg, UserWarning)\n"
     ]
    },
    {
     "data": {
      "image/png": "[encoded data removed]",
      "text/plain": [
       "<Figure size 576x576 with 20 Axes>"
      ]
     },
     "metadata": {},
     "output_type": "display_data"
    }
   ],
   "source": [
    "# scatterplots (hat tip Sebastian Raschka from his book \"Python Machine Learning\")\n",
    "\n",
    "sns.set(style='whitegrid', context='notebook')\n",
    "sns.pairplot(df[['avgAnnCount', 'avgDeathsPerYear', 'TARGET_deathRate', 'incidenceRate']], size=2)\n",
    "plt.show()"
   ]
  },
  {
   "cell_type": "code",
   "execution_count": 246,
   "metadata": {},
   "outputs": [
    {
     "data": {
      "image/png": "[encoded data removed]",
      "text/plain": [
       "<Figure size 432x288 with 2 Axes>"
      ]
     },
     "metadata": {},
     "output_type": "display_data"
    }
   ],
   "source": [
    "cols = ['avgAnnCount', 'avgDeathsPerYear', 'TARGET_deathRate', 'incidenceRate']\n",
    "cm = np.corrcoef(df[['avgAnnCount', 'avgDeathsPerYear', 'TARGET_deathRate', 'incidenceRate']].values.T)\n",
    "sns.set(font_scale=1.5)\n",
    "hm = sns.heatmap(cm, cbar=True, annot=True, square=True, fmt='.2f', annot_kws={'size':15},\n",
    "                 yticklabels=cols, xticklabels=cols)\n",
    "plt.show()"
   ]
  },
  {
   "cell_type": "markdown",
   "metadata": {},
   "source": [
    "Now let's look at the correlation between health insurance."
   ]
  },
  {
   "cell_type": "code",
   "execution_count": 247,
   "metadata": {},
   "outputs": [
    {
     "name": "stderr",
     "output_type": "stream",
     "text": [
      "C:\\Users\\1\\Anaconda3\\lib\\site-packages\\seaborn\\axisgrid.py:2065: UserWarning: The `size` parameter has been renamed to `height`; pleaes update your code.\n",
      "  warnings.warn(msg, UserWarning)\n"
     ]
    },
    {
     "data": {
      "image/png": "[encoded data removed]",
      "text/plain": [
       "<Figure size 720x720 with 30 Axes>"
      ]
     },
     "metadata": {},
     "output_type": "display_data"
    }
   ],
   "source": [
    "cols = ['PctPrivateCoverage', 'PctPrivateCoverageAlone', 'PctEmpPrivCoverage', 'PctPublicCoverage',\n",
    "                'PctPublicCoverageAlone']\n",
    "sns.set(style='whitegrid', context='notebook')\n",
    "sns.pairplot(df[cols], size=2)\n",
    "plt.show()"
   ]
  },
  {
   "cell_type": "code",
   "execution_count": 248,
   "metadata": {},
   "outputs": [
    {
     "data": {
      "image/png": "[encoded data removed]",
      "text/plain": [
       "<Figure size 432x288 with 2 Axes>"
      ]
     },
     "metadata": {},
     "output_type": "display_data"
    }
   ],
   "source": [
    "cm = np.corrcoef(df[cols].values.T)\n",
    "sns.set(font_scale=1.5)\n",
    "hm = sns.heatmap(cm, cbar=True, annot=True, square=True, fmt='.2f', annot_kws={'size':15},\n",
    "                 yticklabels=cols, xticklabels=cols)\n",
    "plt.show()"
   ]
  },
  {
   "cell_type": "markdown",
   "metadata": {},
   "source": [
    "There are a couple pairs of fairly strongly correlated features: (PctPrivateCoverage & PctPublicCoverageAlone) and (avgAnnCount & avgDeathsPerYear). \n",
    "\n",
    "We'll keep them in mind as we observe how they work in the linear regression."
   ]
  },
  {
   "cell_type": "markdown",
   "metadata": {},
   "source": [
    "#### Summary\n",
    "\n",
    "This data is a patchwork of several publicly available statistics, mainly geocoded (county) cross-sectional data describing socioeconomic levels and cancer incidence and mortality, not a time series or panel. So the information we can get from this may be relatively limited, which is a defect of the data set in this paper; Another defect is the lack of distribution of some core variables within the county.\n",
    "\n",
    "\n",
    "In terms of mortality data distribution, it basically conforms to normal distribution without special outliers.\n",
    "\n",
    "The data integrity is good. The variables with more missing values also happen to be completely collinear with other education variables. The deletion does not affect the analysis, and the data quality is good on the whole.\n",
    "\n",
    "A more serious problem may be the correlation between data variables, which we have made a preliminary analysis, and further analysis will be carried out in the model."
   ]
  },
  {
   "cell_type": "markdown",
   "metadata": {},
   "source": [
    "# Modeling"
   ]
  },
  {
   "cell_type": "markdown",
   "metadata": {},
   "source": [
    "Analyze the data using 2-3 different model specifications (i.e. with/without covariates,using different definitions of the treatment, outcome, or predictor variables, etc.)\n",
    "■ Remember: complicated models are not necessarily better than simple models.\n",
    "There is nothing wrong with OLS regression if that’s the best model."
   ]
  },
  {
   "cell_type": "markdown",
   "metadata": {},
   "source": [
    "## OLS"
   ]
  },
  {
   "cell_type": "code",
   "execution_count": 39,
   "metadata": {},
   "outputs": [
    {
     "name": "stdout",
     "output_type": "stream",
     "text": [
      "['avgAnnCount' 'avgDeathsPerYear' 'TARGET_deathRate' 'incidenceRate'\n",
      " 'medIncome' 'popEst2015' 'povertyPercent' 'studyPerCap' 'MedianAge'\n",
      " 'MedianAgeMale' 'MedianAgeFemale' 'AvgHouseholdSize' 'PctNoHS18_24'\n",
      " 'PctHS18_24' 'PctBachDeg18_24' 'PctHS25_Over' 'PctBachDeg25_Over'\n",
      " 'PctEmployed16_Over' 'PctUnemployed16_Over' 'PctPrivateCoverage'\n",
      " 'PctPrivateCoverageAlone' 'PctEmpPrivCoverage' 'PctPublicCoverage'\n",
      " 'PctPublicCoverageAlone' 'PctWhite' 'PctBlack' 'PctAsian'\n",
      " 'PctMarriedHouseholds' 'BirthRate']\n"
     ]
    }
   ],
   "source": [
    "print(df.columns.values)"
   ]
  },
  {
   "cell_type": "code",
   "execution_count": 44,
   "metadata": {},
   "outputs": [
    {
     "data": {
      "text/html": [
       "<table class=\"simpletable\">\n",
       "<caption>OLS Regression Results</caption>\n",
       "<tr>\n",
       "  <th>Dep. Variable:</th>            <td>y</td>        <th>  R-squared:         </th> <td>   0.504</td> \n",
       "</tr>\n",
       "<tr>\n",
       "  <th>Model:</th>                   <td>OLS</td>       <th>  Adj. R-squared:    </th> <td>   0.500</td> \n",
       "</tr>\n",
       "<tr>\n",
       "  <th>Method:</th>             <td>Least Squares</td>  <th>  F-statistic:       </th> <td>   109.6</td> \n",
       "</tr>\n",
       "<tr>\n",
       "  <th>Date:</th>             <td>Thu, 28 Apr 2022</td> <th>  Prob (F-statistic):</th>  <td>  0.00</td>  \n",
       "</tr>\n",
       "<tr>\n",
       "  <th>Time:</th>                 <td>17:16:29</td>     <th>  Log-Likelihood:    </th> <td> -13380.</td> \n",
       "</tr>\n",
       "<tr>\n",
       "  <th>No. Observations:</th>      <td>  3047</td>      <th>  AIC:               </th> <td>2.682e+04</td>\n",
       "</tr>\n",
       "<tr>\n",
       "  <th>Df Residuals:</th>          <td>  3018</td>      <th>  BIC:               </th> <td>2.699e+04</td>\n",
       "</tr>\n",
       "<tr>\n",
       "  <th>Df Model:</th>              <td>    28</td>      <th>                     </th>     <td> </td>    \n",
       "</tr>\n",
       "<tr>\n",
       "  <th>Covariance Type:</th>      <td>nonrobust</td>    <th>                     </th>     <td> </td>    \n",
       "</tr>\n",
       "</table>\n",
       "<table class=\"simpletable\">\n",
       "<tr>\n",
       "    <td></td>       <th>coef</th>     <th>std err</th>      <th>t</th>      <th>P>|t|</th>  <th>[0.025</th>    <th>0.975]</th>  \n",
       "</tr>\n",
       "<tr>\n",
       "  <th>const</th> <td>  108.2350</td> <td>   12.764</td> <td>    8.480</td> <td> 0.000</td> <td>   83.208</td> <td>  133.262</td>\n",
       "</tr>\n",
       "<tr>\n",
       "  <th>x1</th>    <td>   -0.0032</td> <td>    0.001</td> <td>   -4.100</td> <td> 0.000</td> <td>   -0.005</td> <td>   -0.002</td>\n",
       "</tr>\n",
       "<tr>\n",
       "  <th>x2</th>    <td>    0.0176</td> <td>    0.004</td> <td>    4.467</td> <td> 0.000</td> <td>    0.010</td> <td>    0.025</td>\n",
       "</tr>\n",
       "<tr>\n",
       "  <th>x3</th>    <td>    0.2011</td> <td>    0.007</td> <td>   27.611</td> <td> 0.000</td> <td>    0.187</td> <td>    0.215</td>\n",
       "</tr>\n",
       "<tr>\n",
       "  <th>x4</th>    <td> 2.498e-05</td> <td> 8.05e-05</td> <td>    0.310</td> <td> 0.756</td> <td>   -0.000</td> <td>    0.000</td>\n",
       "</tr>\n",
       "<tr>\n",
       "  <th>x5</th>    <td>-1.702e-05</td> <td> 5.55e-06</td> <td>   -3.068</td> <td> 0.002</td> <td>-2.79e-05</td> <td>-6.14e-06</td>\n",
       "</tr>\n",
       "<tr>\n",
       "  <th>x6</th>    <td>    0.4860</td> <td>    0.152</td> <td>    3.205</td> <td> 0.001</td> <td>    0.189</td> <td>    0.783</td>\n",
       "</tr>\n",
       "<tr>\n",
       "  <th>x7</th>    <td>   -0.0001</td> <td>    0.001</td> <td>   -0.191</td> <td> 0.849</td> <td>   -0.001</td> <td>    0.001</td>\n",
       "</tr>\n",
       "<tr>\n",
       "  <th>x8</th>    <td>   -0.0033</td> <td>    0.008</td> <td>   -0.417</td> <td> 0.677</td> <td>   -0.019</td> <td>    0.012</td>\n",
       "</tr>\n",
       "<tr>\n",
       "  <th>x9</th>    <td>   -0.1392</td> <td>    0.206</td> <td>   -0.677</td> <td> 0.499</td> <td>   -0.542</td> <td>    0.264</td>\n",
       "</tr>\n",
       "<tr>\n",
       "  <th>x10</th>   <td>   -0.0353</td> <td>    0.218</td> <td>   -0.162</td> <td> 0.871</td> <td>   -0.463</td> <td>    0.392</td>\n",
       "</tr>\n",
       "<tr>\n",
       "  <th>x11</th>   <td>   -0.5747</td> <td>    0.962</td> <td>   -0.598</td> <td> 0.550</td> <td>   -2.460</td> <td>    1.311</td>\n",
       "</tr>\n",
       "<tr>\n",
       "  <th>x12</th>   <td>   -0.1407</td> <td>    0.057</td> <td>   -2.478</td> <td> 0.013</td> <td>   -0.252</td> <td>   -0.029</td>\n",
       "</tr>\n",
       "<tr>\n",
       "  <th>x13</th>   <td>    0.2511</td> <td>    0.050</td> <td>    5.041</td> <td> 0.000</td> <td>    0.153</td> <td>    0.349</td>\n",
       "</tr>\n",
       "<tr>\n",
       "  <th>x14</th>   <td>   -0.0761</td> <td>    0.110</td> <td>   -0.695</td> <td> 0.487</td> <td>   -0.291</td> <td>    0.139</td>\n",
       "</tr>\n",
       "<tr>\n",
       "  <th>x15</th>   <td>    0.5294</td> <td>    0.094</td> <td>    5.607</td> <td> 0.000</td> <td>    0.344</td> <td>    0.714</td>\n",
       "</tr>\n",
       "<tr>\n",
       "  <th>x16</th>   <td>   -1.0069</td> <td>    0.152</td> <td>   -6.610</td> <td> 0.000</td> <td>   -1.306</td> <td>   -0.708</td>\n",
       "</tr>\n",
       "<tr>\n",
       "  <th>x17</th>   <td>   -0.0295</td> <td>    0.028</td> <td>   -1.043</td> <td> 0.297</td> <td>   -0.085</td> <td>    0.026</td>\n",
       "</tr>\n",
       "<tr>\n",
       "  <th>x18</th>   <td>    0.3335</td> <td>    0.161</td> <td>    2.075</td> <td> 0.038</td> <td>    0.018</td> <td>    0.649</td>\n",
       "</tr>\n",
       "<tr>\n",
       "  <th>x19</th>   <td>   -0.4012</td> <td>    0.133</td> <td>   -3.015</td> <td> 0.003</td> <td>   -0.662</td> <td>   -0.140</td>\n",
       "</tr>\n",
       "<tr>\n",
       "  <th>x20</th>   <td>   -0.0057</td> <td>    0.018</td> <td>   -0.319</td> <td> 0.750</td> <td>   -0.041</td> <td>    0.030</td>\n",
       "</tr>\n",
       "<tr>\n",
       "  <th>x21</th>   <td>    0.2163</td> <td>    0.104</td> <td>    2.082</td> <td> 0.037</td> <td>    0.013</td> <td>    0.420</td>\n",
       "</tr>\n",
       "<tr>\n",
       "  <th>x22</th>   <td>   -0.0681</td> <td>    0.221</td> <td>   -0.308</td> <td> 0.758</td> <td>   -0.501</td> <td>    0.365</td>\n",
       "</tr>\n",
       "<tr>\n",
       "  <th>x23</th>   <td>    0.1504</td> <td>    0.278</td> <td>    0.540</td> <td> 0.589</td> <td>   -0.395</td> <td>    0.696</td>\n",
       "</tr>\n",
       "<tr>\n",
       "  <th>x24</th>   <td>    0.0182</td> <td>    0.056</td> <td>    0.326</td> <td> 0.744</td> <td>   -0.091</td> <td>    0.128</td>\n",
       "</tr>\n",
       "<tr>\n",
       "  <th>x25</th>   <td>    0.0514</td> <td>    0.054</td> <td>    0.949</td> <td> 0.343</td> <td>   -0.055</td> <td>    0.157</td>\n",
       "</tr>\n",
       "<tr>\n",
       "  <th>x26</th>   <td>    0.0882</td> <td>    0.191</td> <td>    0.462</td> <td> 0.644</td> <td>   -0.286</td> <td>    0.462</td>\n",
       "</tr>\n",
       "<tr>\n",
       "  <th>x27</th>   <td>   -0.2724</td> <td>    0.092</td> <td>   -2.945</td> <td> 0.003</td> <td>   -0.454</td> <td>   -0.091</td>\n",
       "</tr>\n",
       "<tr>\n",
       "  <th>x28</th>   <td>   -0.6056</td> <td>    0.192</td> <td>   -3.152</td> <td> 0.002</td> <td>   -0.982</td> <td>   -0.229</td>\n",
       "</tr>\n",
       "</table>\n",
       "<table class=\"simpletable\">\n",
       "<tr>\n",
       "  <th>Omnibus:</th>       <td>194.866</td> <th>  Durbin-Watson:     </th> <td>   1.746</td> \n",
       "</tr>\n",
       "<tr>\n",
       "  <th>Prob(Omnibus):</th> <td> 0.000</td>  <th>  Jarque-Bera (JB):  </th> <td> 800.098</td> \n",
       "</tr>\n",
       "<tr>\n",
       "  <th>Skew:</th>          <td> 0.156</td>  <th>  Prob(JB):          </th> <td>1.82e-174</td>\n",
       "</tr>\n",
       "<tr>\n",
       "  <th>Kurtosis:</th>      <td> 5.491</td>  <th>  Cond. No.          </th> <td>1.24e+07</td> \n",
       "</tr>\n",
       "</table><br/><br/>Warnings:<br/>[1] Standard Errors assume that the covariance matrix of the errors is correctly specified.<br/>[2] The condition number is large, 1.24e+07. This might indicate that there are<br/>strong multicollinearity or other numerical problems."
      ],
      "text/plain": [
       "<class 'statsmodels.iolib.summary.Summary'>\n",
       "\"\"\"\n",
       "                            OLS Regression Results                            \n",
       "==============================================================================\n",
       "Dep. Variable:                      y   R-squared:                       0.504\n",
       "Model:                            OLS   Adj. R-squared:                  0.500\n",
       "Method:                 Least Squares   F-statistic:                     109.6\n",
       "Date:                Thu, 28 Apr 2022   Prob (F-statistic):               0.00\n",
       "Time:                        17:16:29   Log-Likelihood:                -13380.\n",
       "No. Observations:                3047   AIC:                         2.682e+04\n",
       "Df Residuals:                    3018   BIC:                         2.699e+04\n",
       "Df Model:                          28                                         \n",
       "Covariance Type:            nonrobust                                         \n",
       "==============================================================================\n",
       "                 coef    std err          t      P>|t|      [0.025      0.975]\n",
       "------------------------------------------------------------------------------\n",
       "const        108.2350     12.764      8.480      0.000      83.208     133.262\n",
       "x1            -0.0032      0.001     -4.100      0.000      -0.005      -0.002\n",
       "x2             0.0176      0.004      4.467      0.000       0.010       0.025\n",
       "x3             0.2011      0.007     27.611      0.000       0.187       0.215\n",
       "x4          2.498e-05   8.05e-05      0.310      0.756      -0.000       0.000\n",
       "x5         -1.702e-05   5.55e-06     -3.068      0.002   -2.79e-05   -6.14e-06\n",
       "x6             0.4860      0.152      3.205      0.001       0.189       0.783\n",
       "x7            -0.0001      0.001     -0.191      0.849      -0.001       0.001\n",
       "x8            -0.0033      0.008     -0.417      0.677      -0.019       0.012\n",
       "x9            -0.1392      0.206     -0.677      0.499      -0.542       0.264\n",
       "x10           -0.0353      0.218     -0.162      0.871      -0.463       0.392\n",
       "x11           -0.5747      0.962     -0.598      0.550      -2.460       1.311\n",
       "x12           -0.1407      0.057     -2.478      0.013      -0.252      -0.029\n",
       "x13            0.2511      0.050      5.041      0.000       0.153       0.349\n",
       "x14           -0.0761      0.110     -0.695      0.487      -0.291       0.139\n",
       "x15            0.5294      0.094      5.607      0.000       0.344       0.714\n",
       "x16           -1.0069      0.152     -6.610      0.000      -1.306      -0.708\n",
       "x17           -0.0295      0.028     -1.043      0.297      -0.085       0.026\n",
       "x18            0.3335      0.161      2.075      0.038       0.018       0.649\n",
       "x19           -0.4012      0.133     -3.015      0.003      -0.662      -0.140\n",
       "x20           -0.0057      0.018     -0.319      0.750      -0.041       0.030\n",
       "x21            0.2163      0.104      2.082      0.037       0.013       0.420\n",
       "x22           -0.0681      0.221     -0.308      0.758      -0.501       0.365\n",
       "x23            0.1504      0.278      0.540      0.589      -0.395       0.696\n",
       "x24            0.0182      0.056      0.326      0.744      -0.091       0.128\n",
       "x25            0.0514      0.054      0.949      0.343      -0.055       0.157\n",
       "x26            0.0882      0.191      0.462      0.644      -0.286       0.462\n",
       "x27           -0.2724      0.092     -2.945      0.003      -0.454      -0.091\n",
       "x28           -0.6056      0.192     -3.152      0.002      -0.982      -0.229\n",
       "==============================================================================\n",
       "Omnibus:                      194.866   Durbin-Watson:                   1.746\n",
       "Prob(Omnibus):                  0.000   Jarque-Bera (JB):              800.098\n",
       "Skew:                           0.156   Prob(JB):                    1.82e-174\n",
       "Kurtosis:                       5.491   Cond. No.                     1.24e+07\n",
       "==============================================================================\n",
       "\n",
       "Warnings:\n",
       "[1] Standard Errors assume that the covariance matrix of the errors is correctly specified.\n",
       "[2] The condition number is large, 1.24e+07. This might indicate that there are\n",
       "strong multicollinearity or other numerical problems.\n",
       "\"\"\""
      ]
     },
     "execution_count": 44,
     "metadata": {},
     "output_type": "execute_result"
    }
   ],
   "source": [
    "import pandas as pd\n",
    "import statsmodels.api as sm\n",
    "\n",
    "\n",
    "df[np.isnan(df)] = 0\n",
    "df[np.isinf(df)] = 0\n",
    "\n",
    "x = df[['avgAnnCount', 'avgDeathsPerYear', 'incidenceRate',\n",
    " 'medIncome' ,'popEst2015', 'povertyPercent', 'studyPerCap', 'MedianAge',\n",
    " 'MedianAgeMale', 'MedianAgeFemale', 'AvgHouseholdSize', 'PctNoHS18_24',\n",
    " 'PctHS18_24', 'PctBachDeg18_24', 'PctHS25_Over', 'PctBachDeg25_Over',\n",
    " 'PctEmployed16_Over', 'PctUnemployed16_Over', 'PctPrivateCoverage',\n",
    " 'PctPrivateCoverageAlone' ,'PctEmpPrivCoverage', 'PctPublicCoverage',\n",
    " 'PctPublicCoverageAlone', 'PctWhite', 'PctBlack', 'PctAsian',\n",
    " 'PctMarriedHouseholds', 'BirthRate']].values\n",
    "x = sm.add_constant(x)\n",
    "y = df[\"TARGET_deathRate\"].values\n",
    "model = sm.OLS(y, x).fit()\n",
    "\n",
    "model.summary()"
   ]
  },
  {
   "cell_type": "markdown",
   "metadata": {},
   "source": [
    "After fitting an ordinary least squares model with the ['avgAnnCount', 'avgDeathsPerYear', 'incidenceRate','medIncome' ,'popEst2015', 'povertyPercent', 'studyPerCap', 'MedianAge', 'MedianAgeMale', 'MedianAgeFemale', 'AvgHouseholdSize', 'PctNoHS18_24','PctHS18_24', 'PctBachDeg18_24', 'PctHS25_Over', 'PctBachDeg25_Over', 'PctEmployed16_Over', 'PctUnemployed16_Over', 'PctPrivateCoverage', 'PctPrivateCoverageAlone' ,'PctEmpPrivCoverage', 'PctPublicCoverage', 'PctPublicCoverageAlone', 'PctWhite', 'PctBlack', 'PctAsian',\n",
    " 'PctMarriedHouseholds', 'BirthRate'] regressed on the 'TARGET_deathRate', we have a pretty well-performing model, as evidenced by the Adjusted R^2 (109).\n",
    "\n",
    "Let's treat this as our baseline, and apply model diagnostics and feature selection to try to improve it.\n",
    "\n",
    "We will attempt to account for multicollinearity, heteroscedsticity of residuals, and normality of distributions of residuals.\n",
    "\n",
    "Multicollinearity\n",
    "Let's apply variance inflation factors to assess for multicollinearity. VIFs, by performing an independent variable on the design matrix comprising all the other independent variables, allows us to assess the degree to which that independent variable is orthogonal the others. Larger VIFs indicate multicollinearity.\n",
    "(!)note: VIF values exceeding 10 are commonly interpreted as \"high\" in multicollinearity. However, this threshold is arbitrary, and it may make sense to select a different threshold in many cases."
   ]
  },
  {
   "cell_type": "markdown",
   "metadata": {},
   "source": [
    "### VIF"
   ]
  },
  {
   "cell_type": "code",
   "execution_count": 206,
   "metadata": {},
   "outputs": [],
   "source": [
    "X = df.loc[:,['avgAnnCount', 'avgDeathsPerYear', 'incidenceRate',\n",
    " 'medIncome' ,'popEst2015', 'povertyPercent', 'studyPerCap', 'MedianAge',\n",
    " 'MedianAgeMale', 'MedianAgeFemale', 'AvgHouseholdSize', 'PctNoHS18_24',\n",
    " 'PctHS18_24', 'PctBachDeg18_24', 'PctHS25_Over', 'PctBachDeg25_Over',\n",
    " 'PctEmployed16_Over', 'PctUnemployed16_Over', 'PctPrivateCoverage',\n",
    " 'PctPrivateCoverageAlone' ,'PctEmpPrivCoverage', 'PctPublicCoverage',\n",
    " 'PctPublicCoverageAlone', 'PctWhite', 'PctBlack', 'PctAsian',\n",
    " 'PctMarriedHouseholds', 'BirthRate']]"
   ]
  },
  {
   "cell_type": "code",
   "execution_count": 207,
   "metadata": {},
   "outputs": [
    {
     "data": {
      "text/html": [
       "<div>\n",
       "<style scoped>\n",
       "    .dataframe tbody tr th:only-of-type {\n",
       "        vertical-align: middle;\n",
       "    }\n",
       "\n",
       "    .dataframe tbody tr th {\n",
       "        vertical-align: top;\n",
       "    }\n",
       "\n",
       "    .dataframe thead th {\n",
       "        text-align: right;\n",
       "    }\n",
       "</style>\n",
       "<table border=\"1\" class=\"dataframe\">\n",
       "  <thead>\n",
       "    <tr style=\"text-align: right;\">\n",
       "      <th></th>\n",
       "      <th>Variable</th>\n",
       "      <th>VIF</th>\n",
       "    </tr>\n",
       "  </thead>\n",
       "  <tbody>\n",
       "    <tr>\n",
       "      <th>0</th>\n",
       "      <td>avgAnnCount</td>\n",
       "      <td>11.406332</td>\n",
       "    </tr>\n",
       "    <tr>\n",
       "      <th>1</th>\n",
       "      <td>avgDeathsPerYear</td>\n",
       "      <td>35.405942</td>\n",
       "    </tr>\n",
       "    <tr>\n",
       "      <th>2</th>\n",
       "      <td>incidenceRate</td>\n",
       "      <td>83.858827</td>\n",
       "    </tr>\n",
       "    <tr>\n",
       "      <th>3</th>\n",
       "      <td>medIncome</td>\n",
       "      <td>117.214811</td>\n",
       "    </tr>\n",
       "    <tr>\n",
       "      <th>4</th>\n",
       "      <td>popEst2015</td>\n",
       "      <td>28.883402</td>\n",
       "    </tr>\n",
       "    <tr>\n",
       "      <th>5</th>\n",
       "      <td>povertyPercent</td>\n",
       "      <td>42.943161</td>\n",
       "    </tr>\n",
       "    <tr>\n",
       "      <th>6</th>\n",
       "      <td>studyPerCap</td>\n",
       "      <td>1.136855</td>\n",
       "    </tr>\n",
       "    <tr>\n",
       "      <th>7</th>\n",
       "      <td>MedianAge</td>\n",
       "      <td>2.046683</td>\n",
       "    </tr>\n",
       "    <tr>\n",
       "      <th>8</th>\n",
       "      <td>MedianAgeMale</td>\n",
       "      <td>530.273333</td>\n",
       "    </tr>\n",
       "    <tr>\n",
       "      <th>9</th>\n",
       "      <td>MedianAgeFemale</td>\n",
       "      <td>672.793854</td>\n",
       "    </tr>\n",
       "    <tr>\n",
       "      <th>10</th>\n",
       "      <td>AvgHouseholdSize</td>\n",
       "      <td>43.364088</td>\n",
       "    </tr>\n",
       "    <tr>\n",
       "      <th>11</th>\n",
       "      <td>PctNoHS18_24</td>\n",
       "      <td>9.570584</td>\n",
       "    </tr>\n",
       "    <tr>\n",
       "      <th>12</th>\n",
       "      <td>PctHS18_24</td>\n",
       "      <td>25.381677</td>\n",
       "    </tr>\n",
       "    <tr>\n",
       "      <th>13</th>\n",
       "      <td>PctBachDeg18_24</td>\n",
       "      <td>5.544747</td>\n",
       "    </tr>\n",
       "    <tr>\n",
       "      <th>14</th>\n",
       "      <td>PctHS25_Over</td>\n",
       "      <td>86.544933</td>\n",
       "    </tr>\n",
       "    <tr>\n",
       "      <th>15</th>\n",
       "      <td>PctBachDeg25_Over</td>\n",
       "      <td>35.559540</td>\n",
       "    </tr>\n",
       "    <tr>\n",
       "      <th>16</th>\n",
       "      <td>PctEmployed16_Over</td>\n",
       "      <td>17.252391</td>\n",
       "    </tr>\n",
       "    <tr>\n",
       "      <th>17</th>\n",
       "      <td>PctUnemployed16_Over</td>\n",
       "      <td>14.887871</td>\n",
       "    </tr>\n",
       "    <tr>\n",
       "      <th>18</th>\n",
       "      <td>PctPrivateCoverage</td>\n",
       "      <td>480.353567</td>\n",
       "    </tr>\n",
       "    <tr>\n",
       "      <th>19</th>\n",
       "      <td>PctPrivateCoverageAlone</td>\n",
       "      <td>5.043998</td>\n",
       "    </tr>\n",
       "    <tr>\n",
       "      <th>20</th>\n",
       "      <td>PctEmpPrivCoverage</td>\n",
       "      <td>151.428422</td>\n",
       "    </tr>\n",
       "    <tr>\n",
       "      <th>21</th>\n",
       "      <td>PctPublicCoverage</td>\n",
       "      <td>523.465297</td>\n",
       "    </tr>\n",
       "    <tr>\n",
       "      <th>22</th>\n",
       "      <td>PctPublicCoverageAlone</td>\n",
       "      <td>225.469708</td>\n",
       "    </tr>\n",
       "    <tr>\n",
       "      <th>23</th>\n",
       "      <td>PctWhite</td>\n",
       "      <td>171.167556</td>\n",
       "    </tr>\n",
       "    <tr>\n",
       "      <th>24</th>\n",
       "      <td>PctBlack</td>\n",
       "      <td>6.634573</td>\n",
       "    </tr>\n",
       "    <tr>\n",
       "      <th>25</th>\n",
       "      <td>PctAsian</td>\n",
       "      <td>2.402471</td>\n",
       "    </tr>\n",
       "    <tr>\n",
       "      <th>26</th>\n",
       "      <td>PctMarriedHouseholds</td>\n",
       "      <td>169.737817</td>\n",
       "    </tr>\n",
       "    <tr>\n",
       "      <th>27</th>\n",
       "      <td>BirthRate</td>\n",
       "      <td>10.152663</td>\n",
       "    </tr>\n",
       "  </tbody>\n",
       "</table>\n",
       "</div>"
      ],
      "text/plain": [
       "                   Variable         VIF\n",
       "0               avgAnnCount   11.406332\n",
       "1          avgDeathsPerYear   35.405942\n",
       "2             incidenceRate   83.858827\n",
       "3                 medIncome  117.214811\n",
       "4                popEst2015   28.883402\n",
       "5            povertyPercent   42.943161\n",
       "6               studyPerCap    1.136855\n",
       "7                 MedianAge    2.046683\n",
       "8             MedianAgeMale  530.273333\n",
       "9           MedianAgeFemale  672.793854\n",
       "10         AvgHouseholdSize   43.364088\n",
       "11             PctNoHS18_24    9.570584\n",
       "12               PctHS18_24   25.381677\n",
       "13          PctBachDeg18_24    5.544747\n",
       "14             PctHS25_Over   86.544933\n",
       "15        PctBachDeg25_Over   35.559540\n",
       "16       PctEmployed16_Over   17.252391\n",
       "17     PctUnemployed16_Over   14.887871\n",
       "18       PctPrivateCoverage  480.353567\n",
       "19  PctPrivateCoverageAlone    5.043998\n",
       "20       PctEmpPrivCoverage  151.428422\n",
       "21        PctPublicCoverage  523.465297\n",
       "22   PctPublicCoverageAlone  225.469708\n",
       "23                 PctWhite  171.167556\n",
       "24                 PctBlack    6.634573\n",
       "25                 PctAsian    2.402471\n",
       "26     PctMarriedHouseholds  169.737817\n",
       "27                BirthRate   10.152663"
      ]
     },
     "execution_count": 207,
     "metadata": {},
     "output_type": "execute_result"
    }
   ],
   "source": [
    "vif = pd.DataFrame([[var, variance_inflation_factor(X.values, X.columns.get_loc(var))] for var in X.columns],\n",
    "                   index=range(X.shape[1]), columns=['Variable', 'VIF'])\n",
    "vif"
   ]
  },
  {
   "cell_type": "markdown",
   "metadata": {},
   "source": [
    "The variables with multicollinearity will be retained, which will be merged into one variable through PCA later, and then combined with other variables for regression.\n",
    "\n",
    "So here's a temporary deposit."
   ]
  },
  {
   "cell_type": "code",
   "execution_count": 212,
   "metadata": {},
   "outputs": [
    {
     "name": "stdout",
     "output_type": "stream",
     "text": [
      "['avgAnnCount' 'avgDeathsPerYear' 'incidenceRate' 'medIncome' 'popEst2015'\n",
      " 'povertyPercent' 'MedianAgeMale' 'MedianAgeFemale' 'AvgHouseholdSize'\n",
      " 'PctHS18_24' 'PctHS25_Over' 'PctBachDeg25_Over' 'PctEmployed16_Over'\n",
      " 'PctUnemployed16_Over' 'PctPrivateCoverage' 'PctEmpPrivCoverage'\n",
      " 'PctPublicCoverage' 'PctPublicCoverageAlone' 'PctWhite'\n",
      " 'PctMarriedHouseholds' 'BirthRate']\n"
     ]
    }
   ],
   "source": [
    "mult = vif.loc[((vif['VIF']>=10))].copy()\n",
    "\n",
    "print(mult['Variable'].values)"
   ]
  },
  {
   "cell_type": "markdown",
   "metadata": {},
   "source": [
    "Filter out VIF greater than 10."
   ]
  },
  {
   "cell_type": "code",
   "execution_count": 65,
   "metadata": {},
   "outputs": [
    {
     "data": {
      "text/html": [
       "<div>\n",
       "<style scoped>\n",
       "    .dataframe tbody tr th:only-of-type {\n",
       "        vertical-align: middle;\n",
       "    }\n",
       "\n",
       "    .dataframe tbody tr th {\n",
       "        vertical-align: top;\n",
       "    }\n",
       "\n",
       "    .dataframe thead th {\n",
       "        text-align: right;\n",
       "    }\n",
       "</style>\n",
       "<table border=\"1\" class=\"dataframe\">\n",
       "  <thead>\n",
       "    <tr style=\"text-align: right;\">\n",
       "      <th></th>\n",
       "      <th>Variable</th>\n",
       "      <th>VIF</th>\n",
       "    </tr>\n",
       "  </thead>\n",
       "  <tbody>\n",
       "    <tr>\n",
       "      <th>6</th>\n",
       "      <td>studyPerCap</td>\n",
       "      <td>1.136855</td>\n",
       "    </tr>\n",
       "    <tr>\n",
       "      <th>7</th>\n",
       "      <td>MedianAge</td>\n",
       "      <td>2.046683</td>\n",
       "    </tr>\n",
       "    <tr>\n",
       "      <th>11</th>\n",
       "      <td>PctNoHS18_24</td>\n",
       "      <td>9.570584</td>\n",
       "    </tr>\n",
       "    <tr>\n",
       "      <th>13</th>\n",
       "      <td>PctBachDeg18_24</td>\n",
       "      <td>5.544747</td>\n",
       "    </tr>\n",
       "    <tr>\n",
       "      <th>19</th>\n",
       "      <td>PctPrivateCoverageAlone</td>\n",
       "      <td>5.043998</td>\n",
       "    </tr>\n",
       "    <tr>\n",
       "      <th>24</th>\n",
       "      <td>PctBlack</td>\n",
       "      <td>6.634573</td>\n",
       "    </tr>\n",
       "    <tr>\n",
       "      <th>25</th>\n",
       "      <td>PctAsian</td>\n",
       "      <td>2.402471</td>\n",
       "    </tr>\n",
       "  </tbody>\n",
       "</table>\n",
       "</div>"
      ],
      "text/plain": [
       "                   Variable       VIF\n",
       "6               studyPerCap  1.136855\n",
       "7                 MedianAge  2.046683\n",
       "11             PctNoHS18_24  9.570584\n",
       "13          PctBachDeg18_24  5.544747\n",
       "19  PctPrivateCoverageAlone  5.043998\n",
       "24                 PctBlack  6.634573\n",
       "25                 PctAsian  2.402471"
      ]
     },
     "execution_count": 65,
     "metadata": {},
     "output_type": "execute_result"
    }
   ],
   "source": [
    "vif = vif.loc[~((vif['VIF']>=10))].copy()\n",
    "vif"
   ]
  },
  {
   "cell_type": "code",
   "execution_count": 67,
   "metadata": {},
   "outputs": [
    {
     "data": {
      "text/plain": [
       "6                 studyPerCap\n",
       "7                   MedianAge\n",
       "11               PctNoHS18_24\n",
       "13            PctBachDeg18_24\n",
       "19    PctPrivateCoverageAlone\n",
       "24                   PctBlack\n",
       "25                   PctAsian\n",
       "Name: Variable, dtype: object"
      ]
     },
     "execution_count": 67,
     "metadata": {},
     "output_type": "execute_result"
    }
   ],
   "source": [
    "vif['Variable']"
   ]
  },
  {
   "cell_type": "markdown",
   "metadata": {},
   "source": [
    "After iteratively removing the feature associated with the largest VIF and then recalculating VIFs, we result in these independent variables:"
   ]
  },
  {
   "cell_type": "code",
   "execution_count": 68,
   "metadata": {},
   "outputs": [],
   "source": [
    "vcols = ['studyPerCap', 'MedianAge', 'PctNoHS18_24', 'PctBachDeg18_24',\n",
    "       'PctPrivateCoverageAlone', 'PctBlack', 'PctAsian']"
   ]
  },
  {
   "cell_type": "code",
   "execution_count": 69,
   "metadata": {},
   "outputs": [
    {
     "data": {
      "text/html": [
       "<div>\n",
       "<style scoped>\n",
       "    .dataframe tbody tr th:only-of-type {\n",
       "        vertical-align: middle;\n",
       "    }\n",
       "\n",
       "    .dataframe tbody tr th {\n",
       "        vertical-align: top;\n",
       "    }\n",
       "\n",
       "    .dataframe thead th {\n",
       "        text-align: right;\n",
       "    }\n",
       "</style>\n",
       "<table border=\"1\" class=\"dataframe\">\n",
       "  <thead>\n",
       "    <tr style=\"text-align: right;\">\n",
       "      <th></th>\n",
       "      <th>Variable</th>\n",
       "      <th>VIF</th>\n",
       "    </tr>\n",
       "  </thead>\n",
       "  <tbody>\n",
       "    <tr>\n",
       "      <th>0</th>\n",
       "      <td>studyPerCap</td>\n",
       "      <td>1.088605</td>\n",
       "    </tr>\n",
       "    <tr>\n",
       "      <th>1</th>\n",
       "      <td>MedianAge</td>\n",
       "      <td>1.870922</td>\n",
       "    </tr>\n",
       "    <tr>\n",
       "      <th>2</th>\n",
       "      <td>PctNoHS18_24</td>\n",
       "      <td>3.093731</td>\n",
       "    </tr>\n",
       "    <tr>\n",
       "      <th>3</th>\n",
       "      <td>PctBachDeg18_24</td>\n",
       "      <td>2.833780</td>\n",
       "    </tr>\n",
       "    <tr>\n",
       "      <th>4</th>\n",
       "      <td>PctPrivateCoverageAlone</td>\n",
       "      <td>3.464821</td>\n",
       "    </tr>\n",
       "    <tr>\n",
       "      <th>5</th>\n",
       "      <td>PctBlack</td>\n",
       "      <td>1.395799</td>\n",
       "    </tr>\n",
       "    <tr>\n",
       "      <th>6</th>\n",
       "      <td>PctAsian</td>\n",
       "      <td>1.417766</td>\n",
       "    </tr>\n",
       "  </tbody>\n",
       "</table>\n",
       "</div>"
      ],
      "text/plain": [
       "                  Variable       VIF\n",
       "0              studyPerCap  1.088605\n",
       "1                MedianAge  1.870922\n",
       "2             PctNoHS18_24  3.093731\n",
       "3          PctBachDeg18_24  2.833780\n",
       "4  PctPrivateCoverageAlone  3.464821\n",
       "5                 PctBlack  1.395799\n",
       "6                 PctAsian  1.417766"
      ]
     },
     "execution_count": 69,
     "metadata": {},
     "output_type": "execute_result"
    }
   ],
   "source": [
    "Xvcols = X[vcols].reset_index(drop=True)\n",
    "pd.DataFrame([[var, variance_inflation_factor(Xvcols.values, Xvcols.columns.get_loc(var))] for var in vcols],\n",
    "                   index=range(len(vcols)), columns=['Variable', 'VIF'])"
   ]
  },
  {
   "cell_type": "markdown",
   "metadata": {},
   "source": [
    "Let's recompute a linear regression on the reduced set of independent variables."
   ]
  },
  {
   "cell_type": "code",
   "execution_count": 78,
   "metadata": {},
   "outputs": [
    {
     "data": {
      "text/html": [
       "<table class=\"simpletable\">\n",
       "<caption>OLS Regression Results</caption>\n",
       "<tr>\n",
       "  <th>Dep. Variable:</th>            <td>y</td>        <th>  R-squared:         </th> <td>   0.154</td> \n",
       "</tr>\n",
       "<tr>\n",
       "  <th>Model:</th>                   <td>OLS</td>       <th>  Adj. R-squared:    </th> <td>   0.152</td> \n",
       "</tr>\n",
       "<tr>\n",
       "  <th>Method:</th>             <td>Least Squares</td>  <th>  F-statistic:       </th> <td>   79.03</td> \n",
       "</tr>\n",
       "<tr>\n",
       "  <th>Date:</th>             <td>Thu, 28 Apr 2022</td> <th>  Prob (F-statistic):</th> <td>1.11e-105</td>\n",
       "</tr>\n",
       "<tr>\n",
       "  <th>Time:</th>                 <td>18:40:27</td>     <th>  Log-Likelihood:    </th> <td> -14194.</td> \n",
       "</tr>\n",
       "<tr>\n",
       "  <th>No. Observations:</th>      <td>  3047</td>      <th>  AIC:               </th> <td>2.840e+04</td>\n",
       "</tr>\n",
       "<tr>\n",
       "  <th>Df Residuals:</th>          <td>  3039</td>      <th>  BIC:               </th> <td>2.845e+04</td>\n",
       "</tr>\n",
       "<tr>\n",
       "  <th>Df Model:</th>              <td>     7</td>      <th>                     </th>     <td> </td>    \n",
       "</tr>\n",
       "<tr>\n",
       "  <th>Covariance Type:</th>      <td>nonrobust</td>    <th>                     </th>     <td> </td>    \n",
       "</tr>\n",
       "</table>\n",
       "<table class=\"simpletable\">\n",
       "<tr>\n",
       "             <td></td>                <th>coef</th>     <th>std err</th>      <th>t</th>      <th>P>|t|</th>  <th>[0.025</th>    <th>0.975]</th>  \n",
       "</tr>\n",
       "<tr>\n",
       "  <th>studyPerCap</th>             <td>  7.59e-05</td> <td>    0.001</td> <td>    0.086</td> <td> 0.931</td> <td>   -0.002</td> <td>    0.002</td>\n",
       "</tr>\n",
       "<tr>\n",
       "  <th>MedianAge</th>               <td>   -0.0003</td> <td>    0.010</td> <td>   -0.034</td> <td> 0.973</td> <td>   -0.020</td> <td>    0.020</td>\n",
       "</tr>\n",
       "<tr>\n",
       "  <th>PctNoHS18_24</th>            <td>   -0.2310</td> <td>    0.063</td> <td>   -3.667</td> <td> 0.000</td> <td>   -0.355</td> <td>   -0.107</td>\n",
       "</tr>\n",
       "<tr>\n",
       "  <th>PctBachDeg18_24</th>         <td>   -1.4723</td> <td>    0.116</td> <td>  -12.641</td> <td> 0.000</td> <td>   -1.701</td> <td>   -1.244</td>\n",
       "</tr>\n",
       "<tr>\n",
       "  <th>PctPrivateCoverageAlone</th> <td>   -0.0820</td> <td>    0.022</td> <td>   -3.688</td> <td> 0.000</td> <td>   -0.126</td> <td>   -0.038</td>\n",
       "</tr>\n",
       "<tr>\n",
       "  <th>PctBlack</th>                <td>    0.4557</td> <td>    0.032</td> <td>   14.126</td> <td> 0.000</td> <td>    0.392</td> <td>    0.519</td>\n",
       "</tr>\n",
       "<tr>\n",
       "  <th>PctAsian</th>                <td>   -1.2311</td> <td>    0.191</td> <td>   -6.457</td> <td> 0.000</td> <td>   -1.605</td> <td>   -0.857</td>\n",
       "</tr>\n",
       "<tr>\n",
       "  <th>Constant</th>                <td>  192.5166</td> <td>    1.938</td> <td>   99.337</td> <td> 0.000</td> <td>  188.717</td> <td>  196.317</td>\n",
       "</tr>\n",
       "</table>\n",
       "<table class=\"simpletable\">\n",
       "<tr>\n",
       "  <th>Omnibus:</th>       <td>143.113</td> <th>  Durbin-Watson:     </th> <td>   1.456</td>\n",
       "</tr>\n",
       "<tr>\n",
       "  <th>Prob(Omnibus):</th> <td> 0.000</td>  <th>  Jarque-Bera (JB):  </th> <td> 393.503</td>\n",
       "</tr>\n",
       "<tr>\n",
       "  <th>Skew:</th>          <td> 0.214</td>  <th>  Prob(JB):          </th> <td>3.56e-86</td>\n",
       "</tr>\n",
       "<tr>\n",
       "  <th>Kurtosis:</th>      <td> 4.708</td>  <th>  Cond. No.          </th> <td>2.31e+03</td>\n",
       "</tr>\n",
       "</table><br/><br/>Warnings:<br/>[1] Standard Errors assume that the covariance matrix of the errors is correctly specified.<br/>[2] The condition number is large, 2.31e+03. This might indicate that there are<br/>strong multicollinearity or other numerical problems."
      ],
      "text/plain": [
       "<class 'statsmodels.iolib.summary.Summary'>\n",
       "\"\"\"\n",
       "                            OLS Regression Results                            \n",
       "==============================================================================\n",
       "Dep. Variable:                      y   R-squared:                       0.154\n",
       "Model:                            OLS   Adj. R-squared:                  0.152\n",
       "Method:                 Least Squares   F-statistic:                     79.03\n",
       "Date:                Thu, 28 Apr 2022   Prob (F-statistic):          1.11e-105\n",
       "Time:                        18:40:27   Log-Likelihood:                -14194.\n",
       "No. Observations:                3047   AIC:                         2.840e+04\n",
       "Df Residuals:                    3039   BIC:                         2.845e+04\n",
       "Df Model:                           7                                         \n",
       "Covariance Type:            nonrobust                                         \n",
       "===========================================================================================\n",
       "                              coef    std err          t      P>|t|      [0.025      0.975]\n",
       "-------------------------------------------------------------------------------------------\n",
       "studyPerCap               7.59e-05      0.001      0.086      0.931      -0.002       0.002\n",
       "MedianAge                  -0.0003      0.010     -0.034      0.973      -0.020       0.020\n",
       "PctNoHS18_24               -0.2310      0.063     -3.667      0.000      -0.355      -0.107\n",
       "PctBachDeg18_24            -1.4723      0.116    -12.641      0.000      -1.701      -1.244\n",
       "PctPrivateCoverageAlone    -0.0820      0.022     -3.688      0.000      -0.126      -0.038\n",
       "PctBlack                    0.4557      0.032     14.126      0.000       0.392       0.519\n",
       "PctAsian                   -1.2311      0.191     -6.457      0.000      -1.605      -0.857\n",
       "Constant                  192.5166      1.938     99.337      0.000     188.717     196.317\n",
       "==============================================================================\n",
       "Omnibus:                      143.113   Durbin-Watson:                   1.456\n",
       "Prob(Omnibus):                  0.000   Jarque-Bera (JB):              393.503\n",
       "Skew:                           0.214   Prob(JB):                     3.56e-86\n",
       "Kurtosis:                       4.708   Cond. No.                     2.31e+03\n",
       "==============================================================================\n",
       "\n",
       "Warnings:\n",
       "[1] Standard Errors assume that the covariance matrix of the errors is correctly specified.\n",
       "[2] The condition number is large, 2.31e+03. This might indicate that there are\n",
       "strong multicollinearity or other numerical problems.\n",
       "\"\"\""
      ]
     },
     "execution_count": 78,
     "metadata": {},
     "output_type": "execute_result"
    }
   ],
   "source": [
    "X['Constant'] = 1\n",
    "vcols = ['studyPerCap', 'MedianAge', 'PctNoHS18_24', 'PctBachDeg18_24',\n",
    "       'PctPrivateCoverageAlone', 'PctBlack', 'PctAsian','Constant']\n",
    "Xvcols = X[vcols].reset_index(drop=True)\n",
    "lr = sm.OLS(y, Xvcols, hasconst=True)\n",
    "result = lr.fit()\n",
    "\n",
    "result.summary()"
   ]
  },
  {
   "cell_type": "markdown",
   "metadata": {},
   "source": [
    "Obviously, the fitting effect is not good, and some explanatory variables we care about have been screened out, and the method of judging and deleting variables using VIF is not good.  \n",
    " \n",
    "And then we take another approach, principal component analysis.  (PCA)  "
   ]
  },
  {
   "cell_type": "markdown",
   "metadata": {},
   "source": [
    "### PCA"
   ]
  },
  {
   "cell_type": "code",
   "execution_count": 237,
   "metadata": {},
   "outputs": [],
   "source": [
    "#  principal component analysis and standardize \n",
    "from sklearn.decomposition import PCA\n",
    "from sklearn.preprocessing import MinMaxScaler, StandardScaler\n",
    "from sklearn.preprocessing import LabelEncoder\n",
    "\n",
    "pca_data1 = df[['avgAnnCount', 'avgDeathsPerYear', 'incidenceRate', 'medIncome', 'popEst2015',\n",
    " 'povertyPercent', 'MedianAgeMale', 'MedianAgeFemale', 'AvgHouseholdSize',\n",
    " 'PctHS18_24' ,'PctHS25_Over', 'PctBachDeg25_Over', 'PctEmployed16_Over',\n",
    " 'PctUnemployed16_Over', 'PctPrivateCoverage', 'PctEmpPrivCoverage',\n",
    " 'PctPublicCoverage', 'PctPublicCoverageAlone', 'PctWhite',\n",
    " 'PctMarriedHouseholds', 'BirthRate']].copy()\n",
    "pca = PCA(n_components=1)\n",
    "pca_data1 = pd.DataFrame(StandardScaler().fit_transform(pca.fit_transform(pca_data1)))\n",
    "\n",
    "pca_data1.columns = ['PCA_'+str(i) for i in range(pca_data1.shape[1])]"
   ]
  },
  {
   "cell_type": "code",
   "execution_count": 238,
   "metadata": {},
   "outputs": [],
   "source": [
    "pca_data = pd.concat([pca_data1,X], axis=1)"
   ]
  },
  {
   "cell_type": "code",
   "execution_count": 239,
   "metadata": {},
   "outputs": [
    {
     "data": {
      "text/html": [
       "<div>\n",
       "<style scoped>\n",
       "    .dataframe tbody tr th:only-of-type {\n",
       "        vertical-align: middle;\n",
       "    }\n",
       "\n",
       "    .dataframe tbody tr th {\n",
       "        vertical-align: top;\n",
       "    }\n",
       "\n",
       "    .dataframe thead th {\n",
       "        text-align: right;\n",
       "    }\n",
       "</style>\n",
       "<table border=\"1\" class=\"dataframe\">\n",
       "  <thead>\n",
       "    <tr style=\"text-align: right;\">\n",
       "      <th></th>\n",
       "      <th>PCA_0</th>\n",
       "      <th>avgAnnCount</th>\n",
       "      <th>avgDeathsPerYear</th>\n",
       "      <th>incidenceRate</th>\n",
       "      <th>medIncome</th>\n",
       "      <th>popEst2015</th>\n",
       "      <th>povertyPercent</th>\n",
       "      <th>studyPerCap</th>\n",
       "      <th>MedianAge</th>\n",
       "      <th>MedianAgeMale</th>\n",
       "      <th>...</th>\n",
       "      <th>PctPrivateCoverageAlone</th>\n",
       "      <th>PctEmpPrivCoverage</th>\n",
       "      <th>PctPublicCoverage</th>\n",
       "      <th>PctPublicCoverageAlone</th>\n",
       "      <th>PctWhite</th>\n",
       "      <th>PctBlack</th>\n",
       "      <th>PctAsian</th>\n",
       "      <th>PctMarriedHouseholds</th>\n",
       "      <th>BirthRate</th>\n",
       "      <th>Constant</th>\n",
       "    </tr>\n",
       "  </thead>\n",
       "  <tbody>\n",
       "    <tr>\n",
       "      <th>0</th>\n",
       "      <td>0.479052</td>\n",
       "      <td>1397.000000</td>\n",
       "      <td>469</td>\n",
       "      <td>489.800000</td>\n",
       "      <td>61898</td>\n",
       "      <td>260131</td>\n",
       "      <td>11.2</td>\n",
       "      <td>499.748204</td>\n",
       "      <td>39.3</td>\n",
       "      <td>36.9</td>\n",
       "      <td>...</td>\n",
       "      <td>0.0</td>\n",
       "      <td>41.6</td>\n",
       "      <td>32.9</td>\n",
       "      <td>14.0</td>\n",
       "      <td>81.780529</td>\n",
       "      <td>2.594728</td>\n",
       "      <td>4.821857</td>\n",
       "      <td>52.856076</td>\n",
       "      <td>6.118831</td>\n",
       "      <td>1</td>\n",
       "    </tr>\n",
       "    <tr>\n",
       "      <th>1</th>\n",
       "      <td>-0.180409</td>\n",
       "      <td>173.000000</td>\n",
       "      <td>70</td>\n",
       "      <td>411.600000</td>\n",
       "      <td>48127</td>\n",
       "      <td>43269</td>\n",
       "      <td>18.6</td>\n",
       "      <td>23.111234</td>\n",
       "      <td>33.0</td>\n",
       "      <td>32.2</td>\n",
       "      <td>...</td>\n",
       "      <td>53.8</td>\n",
       "      <td>43.6</td>\n",
       "      <td>31.1</td>\n",
       "      <td>15.3</td>\n",
       "      <td>89.228509</td>\n",
       "      <td>0.969102</td>\n",
       "      <td>2.246233</td>\n",
       "      <td>45.372500</td>\n",
       "      <td>4.333096</td>\n",
       "      <td>1</td>\n",
       "    </tr>\n",
       "    <tr>\n",
       "      <th>2</th>\n",
       "      <td>-0.247979</td>\n",
       "      <td>102.000000</td>\n",
       "      <td>50</td>\n",
       "      <td>349.700000</td>\n",
       "      <td>49348</td>\n",
       "      <td>21026</td>\n",
       "      <td>14.6</td>\n",
       "      <td>47.560164</td>\n",
       "      <td>45.0</td>\n",
       "      <td>44.0</td>\n",
       "      <td>...</td>\n",
       "      <td>43.5</td>\n",
       "      <td>34.9</td>\n",
       "      <td>42.1</td>\n",
       "      <td>21.1</td>\n",
       "      <td>90.922190</td>\n",
       "      <td>0.739673</td>\n",
       "      <td>0.465898</td>\n",
       "      <td>54.444868</td>\n",
       "      <td>3.729488</td>\n",
       "      <td>1</td>\n",
       "    </tr>\n",
       "    <tr>\n",
       "      <th>3</th>\n",
       "      <td>-0.081391</td>\n",
       "      <td>427.000000</td>\n",
       "      <td>202</td>\n",
       "      <td>430.400000</td>\n",
       "      <td>44243</td>\n",
       "      <td>75882</td>\n",
       "      <td>17.1</td>\n",
       "      <td>342.637253</td>\n",
       "      <td>42.8</td>\n",
       "      <td>42.2</td>\n",
       "      <td>...</td>\n",
       "      <td>40.3</td>\n",
       "      <td>35.0</td>\n",
       "      <td>45.3</td>\n",
       "      <td>25.0</td>\n",
       "      <td>91.744686</td>\n",
       "      <td>0.782626</td>\n",
       "      <td>1.161359</td>\n",
       "      <td>51.021514</td>\n",
       "      <td>4.603841</td>\n",
       "      <td>1</td>\n",
       "    </tr>\n",
       "    <tr>\n",
       "      <th>4</th>\n",
       "      <td>-0.280498</td>\n",
       "      <td>57.000000</td>\n",
       "      <td>26</td>\n",
       "      <td>350.100000</td>\n",
       "      <td>49955</td>\n",
       "      <td>10321</td>\n",
       "      <td>12.5</td>\n",
       "      <td>0.000000</td>\n",
       "      <td>48.3</td>\n",
       "      <td>47.8</td>\n",
       "      <td>...</td>\n",
       "      <td>43.9</td>\n",
       "      <td>35.1</td>\n",
       "      <td>44.0</td>\n",
       "      <td>22.7</td>\n",
       "      <td>94.104024</td>\n",
       "      <td>0.270192</td>\n",
       "      <td>0.665830</td>\n",
       "      <td>54.027460</td>\n",
       "      <td>6.796657</td>\n",
       "      <td>1</td>\n",
       "    </tr>\n",
       "    <tr>\n",
       "      <th>...</th>\n",
       "      <td>...</td>\n",
       "      <td>...</td>\n",
       "      <td>...</td>\n",
       "      <td>...</td>\n",
       "      <td>...</td>\n",
       "      <td>...</td>\n",
       "      <td>...</td>\n",
       "      <td>...</td>\n",
       "      <td>...</td>\n",
       "      <td>...</td>\n",
       "      <td>...</td>\n",
       "      <td>...</td>\n",
       "      <td>...</td>\n",
       "      <td>...</td>\n",
       "      <td>...</td>\n",
       "      <td>...</td>\n",
       "      <td>...</td>\n",
       "      <td>...</td>\n",
       "      <td>...</td>\n",
       "      <td>...</td>\n",
       "      <td>...</td>\n",
       "    </tr>\n",
       "    <tr>\n",
       "      <th>3042</th>\n",
       "      <td>-0.292643</td>\n",
       "      <td>1962.667684</td>\n",
       "      <td>15</td>\n",
       "      <td>453.549422</td>\n",
       "      <td>46961</td>\n",
       "      <td>6343</td>\n",
       "      <td>12.4</td>\n",
       "      <td>0.000000</td>\n",
       "      <td>44.2</td>\n",
       "      <td>41.1</td>\n",
       "      <td>...</td>\n",
       "      <td>54.9</td>\n",
       "      <td>44.6</td>\n",
       "      <td>31.7</td>\n",
       "      <td>13.2</td>\n",
       "      <td>90.280811</td>\n",
       "      <td>3.837754</td>\n",
       "      <td>0.327613</td>\n",
       "      <td>51.063830</td>\n",
       "      <td>7.773512</td>\n",
       "      <td>1</td>\n",
       "    </tr>\n",
       "    <tr>\n",
       "      <th>3043</th>\n",
       "      <td>-0.199069</td>\n",
       "      <td>1962.667684</td>\n",
       "      <td>43</td>\n",
       "      <td>453.549422</td>\n",
       "      <td>48609</td>\n",
       "      <td>37118</td>\n",
       "      <td>18.8</td>\n",
       "      <td>377.175494</td>\n",
       "      <td>30.4</td>\n",
       "      <td>29.3</td>\n",
       "      <td>...</td>\n",
       "      <td>53.3</td>\n",
       "      <td>48.6</td>\n",
       "      <td>28.8</td>\n",
       "      <td>17.7</td>\n",
       "      <td>75.706245</td>\n",
       "      <td>2.326771</td>\n",
       "      <td>4.044920</td>\n",
       "      <td>52.007937</td>\n",
       "      <td>8.186470</td>\n",
       "      <td>1</td>\n",
       "    </tr>\n",
       "    <tr>\n",
       "      <th>3044</th>\n",
       "      <td>-0.206850</td>\n",
       "      <td>1962.667684</td>\n",
       "      <td>46</td>\n",
       "      <td>453.549422</td>\n",
       "      <td>51144</td>\n",
       "      <td>34536</td>\n",
       "      <td>15.0</td>\n",
       "      <td>1968.959926</td>\n",
       "      <td>30.9</td>\n",
       "      <td>30.5</td>\n",
       "      <td>...</td>\n",
       "      <td>52.6</td>\n",
       "      <td>47.8</td>\n",
       "      <td>26.6</td>\n",
       "      <td>16.8</td>\n",
       "      <td>87.961629</td>\n",
       "      <td>2.313188</td>\n",
       "      <td>1.316472</td>\n",
       "      <td>55.153949</td>\n",
       "      <td>7.809192</td>\n",
       "      <td>1</td>\n",
       "    </tr>\n",
       "    <tr>\n",
       "      <th>3045</th>\n",
       "      <td>-0.233991</td>\n",
       "      <td>1962.667684</td>\n",
       "      <td>52</td>\n",
       "      <td>453.549422</td>\n",
       "      <td>50745</td>\n",
       "      <td>25609</td>\n",
       "      <td>13.3</td>\n",
       "      <td>0.000000</td>\n",
       "      <td>39.0</td>\n",
       "      <td>36.9</td>\n",
       "      <td>...</td>\n",
       "      <td>56.3</td>\n",
       "      <td>49.6</td>\n",
       "      <td>29.5</td>\n",
       "      <td>14.0</td>\n",
       "      <td>92.905681</td>\n",
       "      <td>1.176562</td>\n",
       "      <td>0.244632</td>\n",
       "      <td>58.484232</td>\n",
       "      <td>7.582938</td>\n",
       "      <td>1</td>\n",
       "    </tr>\n",
       "    <tr>\n",
       "      <th>3046</th>\n",
       "      <td>-0.199531</td>\n",
       "      <td>1962.667684</td>\n",
       "      <td>48</td>\n",
       "      <td>453.549422</td>\n",
       "      <td>41193</td>\n",
       "      <td>37030</td>\n",
       "      <td>13.9</td>\n",
       "      <td>0.000000</td>\n",
       "      <td>26.2</td>\n",
       "      <td>25.5</td>\n",
       "      <td>...</td>\n",
       "      <td>60.3</td>\n",
       "      <td>22.9</td>\n",
       "      <td>25.1</td>\n",
       "      <td>12.6</td>\n",
       "      <td>70.098132</td>\n",
       "      <td>16.590100</td>\n",
       "      <td>3.177753</td>\n",
       "      <td>56.040242</td>\n",
       "      <td>8.981723</td>\n",
       "      <td>1</td>\n",
       "    </tr>\n",
       "  </tbody>\n",
       "</table>\n",
       "<p>3047 rows × 30 columns</p>\n",
       "</div>"
      ],
      "text/plain": [
       "         PCA_0  avgAnnCount  avgDeathsPerYear  incidenceRate  medIncome  \\\n",
       "0     0.479052  1397.000000               469     489.800000      61898   \n",
       "1    -0.180409   173.000000                70     411.600000      48127   \n",
       "2    -0.247979   102.000000                50     349.700000      49348   \n",
       "3    -0.081391   427.000000               202     430.400000      44243   \n",
       "4    -0.280498    57.000000                26     350.100000      49955   \n",
       "...        ...          ...               ...            ...        ...   \n",
       "3042 -0.292643  1962.667684                15     453.549422      46961   \n",
       "3043 -0.199069  1962.667684                43     453.549422      48609   \n",
       "3044 -0.206850  1962.667684                46     453.549422      51144   \n",
       "3045 -0.233991  1962.667684                52     453.549422      50745   \n",
       "3046 -0.199531  1962.667684                48     453.549422      41193   \n",
       "\n",
       "      popEst2015  povertyPercent  studyPerCap  MedianAge  MedianAgeMale  ...  \\\n",
       "0         260131            11.2   499.748204       39.3           36.9  ...   \n",
       "1          43269            18.6    23.111234       33.0           32.2  ...   \n",
       "2          21026            14.6    47.560164       45.0           44.0  ...   \n",
       "3          75882            17.1   342.637253       42.8           42.2  ...   \n",
       "4          10321            12.5     0.000000       48.3           47.8  ...   \n",
       "...          ...             ...          ...        ...            ...  ...   \n",
       "3042        6343            12.4     0.000000       44.2           41.1  ...   \n",
       "3043       37118            18.8   377.175494       30.4           29.3  ...   \n",
       "3044       34536            15.0  1968.959926       30.9           30.5  ...   \n",
       "3045       25609            13.3     0.000000       39.0           36.9  ...   \n",
       "3046       37030            13.9     0.000000       26.2           25.5  ...   \n",
       "\n",
       "      PctPrivateCoverageAlone  PctEmpPrivCoverage  PctPublicCoverage  \\\n",
       "0                         0.0                41.6               32.9   \n",
       "1                        53.8                43.6               31.1   \n",
       "2                        43.5                34.9               42.1   \n",
       "3                        40.3                35.0               45.3   \n",
       "4                        43.9                35.1               44.0   \n",
       "...                       ...                 ...                ...   \n",
       "3042                     54.9                44.6               31.7   \n",
       "3043                     53.3                48.6               28.8   \n",
       "3044                     52.6                47.8               26.6   \n",
       "3045                     56.3                49.6               29.5   \n",
       "3046                     60.3                22.9               25.1   \n",
       "\n",
       "      PctPublicCoverageAlone   PctWhite   PctBlack  PctAsian  \\\n",
       "0                       14.0  81.780529   2.594728  4.821857   \n",
       "1                       15.3  89.228509   0.969102  2.246233   \n",
       "2                       21.1  90.922190   0.739673  0.465898   \n",
       "3                       25.0  91.744686   0.782626  1.161359   \n",
       "4                       22.7  94.104024   0.270192  0.665830   \n",
       "...                      ...        ...        ...       ...   \n",
       "3042                    13.2  90.280811   3.837754  0.327613   \n",
       "3043                    17.7  75.706245   2.326771  4.044920   \n",
       "3044                    16.8  87.961629   2.313188  1.316472   \n",
       "3045                    14.0  92.905681   1.176562  0.244632   \n",
       "3046                    12.6  70.098132  16.590100  3.177753   \n",
       "\n",
       "      PctMarriedHouseholds  BirthRate  Constant  \n",
       "0                52.856076   6.118831         1  \n",
       "1                45.372500   4.333096         1  \n",
       "2                54.444868   3.729488         1  \n",
       "3                51.021514   4.603841         1  \n",
       "4                54.027460   6.796657         1  \n",
       "...                    ...        ...       ...  \n",
       "3042             51.063830   7.773512         1  \n",
       "3043             52.007937   8.186470         1  \n",
       "3044             55.153949   7.809192         1  \n",
       "3045             58.484232   7.582938         1  \n",
       "3046             56.040242   8.981723         1  \n",
       "\n",
       "[3047 rows x 30 columns]"
      ]
     },
     "execution_count": 239,
     "metadata": {},
     "output_type": "execute_result"
    }
   ],
   "source": [
    "pca_data"
   ]
  },
  {
   "cell_type": "code",
   "execution_count": 240,
   "metadata": {},
   "outputs": [
    {
     "data": {
      "text/html": [
       "<table class=\"simpletable\">\n",
       "<caption>OLS Regression Results</caption>\n",
       "<tr>\n",
       "  <th>Dep. Variable:</th>            <td>y</td>        <th>  R-squared:         </th> <td>   0.155</td> \n",
       "</tr>\n",
       "<tr>\n",
       "  <th>Model:</th>                   <td>OLS</td>       <th>  Adj. R-squared:    </th> <td>   0.153</td> \n",
       "</tr>\n",
       "<tr>\n",
       "  <th>Method:</th>             <td>Least Squares</td>  <th>  F-statistic:       </th> <td>   69.73</td> \n",
       "</tr>\n",
       "<tr>\n",
       "  <th>Date:</th>             <td>Fri, 29 Apr 2022</td> <th>  Prob (F-statistic):</th> <td>1.38e-105</td>\n",
       "</tr>\n",
       "<tr>\n",
       "  <th>Time:</th>                 <td>03:26:32</td>     <th>  Log-Likelihood:    </th> <td> -14192.</td> \n",
       "</tr>\n",
       "<tr>\n",
       "  <th>No. Observations:</th>      <td>  3047</td>      <th>  AIC:               </th> <td>2.840e+04</td>\n",
       "</tr>\n",
       "<tr>\n",
       "  <th>Df Residuals:</th>          <td>  3038</td>      <th>  BIC:               </th> <td>2.846e+04</td>\n",
       "</tr>\n",
       "<tr>\n",
       "  <th>Df Model:</th>              <td>     8</td>      <th>                     </th>     <td> </td>    \n",
       "</tr>\n",
       "<tr>\n",
       "  <th>Covariance Type:</th>      <td>nonrobust</td>    <th>                     </th>     <td> </td>    \n",
       "</tr>\n",
       "</table>\n",
       "<table class=\"simpletable\">\n",
       "<tr>\n",
       "             <td></td>                <th>coef</th>     <th>std err</th>      <th>t</th>      <th>P>|t|</th>  <th>[0.025</th>    <th>0.975]</th>  \n",
       "</tr>\n",
       "<tr>\n",
       "  <th>studyPerCap</th>             <td>    0.0001</td> <td>    0.001</td> <td>    0.140</td> <td> 0.888</td> <td>   -0.002</td> <td>    0.002</td>\n",
       "</tr>\n",
       "<tr>\n",
       "  <th>MedianAge</th>               <td>   -0.0005</td> <td>    0.010</td> <td>   -0.045</td> <td> 0.964</td> <td>   -0.021</td> <td>    0.020</td>\n",
       "</tr>\n",
       "<tr>\n",
       "  <th>PctNoHS18_24</th>            <td>   -0.2311</td> <td>    0.063</td> <td>   -3.670</td> <td> 0.000</td> <td>   -0.355</td> <td>   -0.108</td>\n",
       "</tr>\n",
       "<tr>\n",
       "  <th>PctBachDeg18_24</th>         <td>   -1.4471</td> <td>    0.117</td> <td>  -12.360</td> <td> 0.000</td> <td>   -1.677</td> <td>   -1.218</td>\n",
       "</tr>\n",
       "<tr>\n",
       "  <th>PctPrivateCoverageAlone</th> <td>   -0.0821</td> <td>    0.022</td> <td>   -3.694</td> <td> 0.000</td> <td>   -0.126</td> <td>   -0.039</td>\n",
       "</tr>\n",
       "<tr>\n",
       "  <th>PctBlack</th>                <td>    0.4613</td> <td>    0.032</td> <td>   14.253</td> <td> 0.000</td> <td>    0.398</td> <td>    0.525</td>\n",
       "</tr>\n",
       "<tr>\n",
       "  <th>PctAsian</th>                <td>   -1.0585</td> <td>    0.209</td> <td>   -5.065</td> <td> 0.000</td> <td>   -1.468</td> <td>   -0.649</td>\n",
       "</tr>\n",
       "<tr>\n",
       "  <th>Constant</th>                <td>  192.0966</td> <td>    1.948</td> <td>   98.600</td> <td> 0.000</td> <td>  188.277</td> <td>  195.917</td>\n",
       "</tr>\n",
       "<tr>\n",
       "  <th>PCA_0</th>                   <td>   -1.0622</td> <td>    0.528</td> <td>   -2.013</td> <td> 0.044</td> <td>   -2.097</td> <td>   -0.028</td>\n",
       "</tr>\n",
       "</table>\n",
       "<table class=\"simpletable\">\n",
       "<tr>\n",
       "  <th>Omnibus:</th>       <td>141.506</td> <th>  Durbin-Watson:     </th> <td>   1.458</td>\n",
       "</tr>\n",
       "<tr>\n",
       "  <th>Prob(Omnibus):</th> <td> 0.000</td>  <th>  Jarque-Bera (JB):  </th> <td> 391.983</td>\n",
       "</tr>\n",
       "<tr>\n",
       "  <th>Skew:</th>          <td> 0.206</td>  <th>  Prob(JB):          </th> <td>7.62e-86</td>\n",
       "</tr>\n",
       "<tr>\n",
       "  <th>Kurtosis:</th>      <td> 4.708</td>  <th>  Cond. No.          </th> <td>2.33e+03</td>\n",
       "</tr>\n",
       "</table><br/><br/>Warnings:<br/>[1] Standard Errors assume that the covariance matrix of the errors is correctly specified.<br/>[2] The condition number is large, 2.33e+03. This might indicate that there are<br/>strong multicollinearity or other numerical problems."
      ],
      "text/plain": [
       "<class 'statsmodels.iolib.summary.Summary'>\n",
       "\"\"\"\n",
       "                            OLS Regression Results                            \n",
       "==============================================================================\n",
       "Dep. Variable:                      y   R-squared:                       0.155\n",
       "Model:                            OLS   Adj. R-squared:                  0.153\n",
       "Method:                 Least Squares   F-statistic:                     69.73\n",
       "Date:                Fri, 29 Apr 2022   Prob (F-statistic):          1.38e-105\n",
       "Time:                        03:26:32   Log-Likelihood:                -14192.\n",
       "No. Observations:                3047   AIC:                         2.840e+04\n",
       "Df Residuals:                    3038   BIC:                         2.846e+04\n",
       "Df Model:                           8                                         \n",
       "Covariance Type:            nonrobust                                         \n",
       "===========================================================================================\n",
       "                              coef    std err          t      P>|t|      [0.025      0.975]\n",
       "-------------------------------------------------------------------------------------------\n",
       "studyPerCap                 0.0001      0.001      0.140      0.888      -0.002       0.002\n",
       "MedianAge                  -0.0005      0.010     -0.045      0.964      -0.021       0.020\n",
       "PctNoHS18_24               -0.2311      0.063     -3.670      0.000      -0.355      -0.108\n",
       "PctBachDeg18_24            -1.4471      0.117    -12.360      0.000      -1.677      -1.218\n",
       "PctPrivateCoverageAlone    -0.0821      0.022     -3.694      0.000      -0.126      -0.039\n",
       "PctBlack                    0.4613      0.032     14.253      0.000       0.398       0.525\n",
       "PctAsian                   -1.0585      0.209     -5.065      0.000      -1.468      -0.649\n",
       "Constant                  192.0966      1.948     98.600      0.000     188.277     195.917\n",
       "PCA_0                      -1.0622      0.528     -2.013      0.044      -2.097      -0.028\n",
       "==============================================================================\n",
       "Omnibus:                      141.506   Durbin-Watson:                   1.458\n",
       "Prob(Omnibus):                  0.000   Jarque-Bera (JB):              391.983\n",
       "Skew:                           0.206   Prob(JB):                     7.62e-86\n",
       "Kurtosis:                       4.708   Cond. No.                     2.33e+03\n",
       "==============================================================================\n",
       "\n",
       "Warnings:\n",
       "[1] Standard Errors assume that the covariance matrix of the errors is correctly specified.\n",
       "[2] The condition number is large, 2.33e+03. This might indicate that there are\n",
       "strong multicollinearity or other numerical problems.\n",
       "\"\"\""
      ]
     },
     "execution_count": 240,
     "metadata": {},
     "output_type": "execute_result"
    }
   ],
   "source": [
    "pcols = ['studyPerCap', 'MedianAge', 'PctNoHS18_24', 'PctBachDeg18_24',\n",
    "       'PctPrivateCoverageAlone', 'PctBlack', 'PctAsian','Constant','PCA_0']\n",
    "Pcols = pca_data[pcols].reset_index(drop=True)\n",
    "lr = sm.OLS(y, Pcols, hasconst=True)\n",
    "result = lr.fit()\n",
    "\n",
    "result.summary()"
   ]
  },
  {
   "cell_type": "markdown",
   "metadata": {},
   "source": [
    "It can be seen that both methods can solve the problem of multicollinearity, but using PCA to aggregate variables is better than directly eliminating these variables with collinearity.\n",
    "\n",
    "\n",
    "Now let's think about it differently, and instead of fitting it, let's make a prediction and see what happens."
   ]
  },
  {
   "cell_type": "markdown",
   "metadata": {},
   "source": [
    "## Ridge"
   ]
  },
  {
   "cell_type": "code",
   "execution_count": 192,
   "metadata": {},
   "outputs": [
    {
     "name": "stdout",
     "output_type": "stream",
     "text": [
      "0.49722401266436794\n",
      "371.550759735527\n"
     ]
    }
   ],
   "source": [
    "# ridge regression\n",
    "from sklearn.linear_model import Ridge\n",
    "\n",
    "model = Ridge()\n",
    "model.fit(X_train, y_train)\n",
    "y_test_pred = model.predict(X_test)\n",
    "\n",
    "print(model.score(X_test, y_test))\n",
    "print(mean_squared_error(y_test, y_test_pred))\n"
   ]
  },
  {
   "cell_type": "markdown",
   "metadata": {},
   "source": [
    "## RandomForestRegressor & SVM"
   ]
  },
  {
   "cell_type": "markdown",
   "metadata": {},
   "source": [
    "The basic idea here is to use random forest for fitting and prediction. \n",
    "\n",
    "Then random forest was used for feature selection, and SVR was used for training. Compare the results of the two methods."
   ]
  },
  {
   "cell_type": "markdown",
   "metadata": {},
   "source": [
    "### RandomForestRegressor "
   ]
  },
  {
   "cell_type": "markdown",
   "metadata": {},
   "source": [
    "Colinearity didn't matter - - -\n",
    "\n",
    "the RF model was making the splits based on what worked and not necessarily trying to balance features"
   ]
  },
  {
   "cell_type": "code",
   "execution_count": 136,
   "metadata": {},
   "outputs": [],
   "source": [
    "import pandas as pd\n",
    "import numpy as np\n",
    "from sklearn.model_selection import train_test_split\n",
    "from sklearn import linear_model\n",
    "from sklearn.metrics import mean_squared_error\n",
    "from sklearn.linear_model import Ridge\n",
    "from sklearn.preprocessing import PolynomialFeatures\n",
    "%matplotlib inline\n",
    "import matplotlib.pyplot as plt\n",
    "from sklearn.ensemble import RandomForestClassifier"
   ]
  },
  {
   "cell_type": "code",
   "execution_count": 137,
   "metadata": {
    "scrolled": true
   },
   "outputs": [],
   "source": [
    "# Plot regression results\n",
    "\n",
    "%matplotlib inline\n",
    "import matplotlib.pyplot as plt\n",
    "\n",
    "def draw_regressor(X, y, model):\n",
    "    \"\"\"\n",
    "        Draw classification area\n",
    "    \"\"\"\n",
    "    plt.figure(figsize=(8,4))\n",
    "    \n",
    "    x = np.linspace(min(X.ravel())*0.9, max(X.ravel())*1.1)\n",
    "    plt.scatter(X.ravel(), y)\n",
    "    plt.plot(x, model.predict(x.reshape(-1,1)), color=\"red\")\n",
    "    plt.show()\n",
    "\n"
   ]
  },
  {
   "cell_type": "code",
   "execution_count": 139,
   "metadata": {},
   "outputs": [],
   "source": [
    "# Import data and do preliminary processing\n",
    "df_data = pd.read_csv(\"./data/cancer_reg.csv\")\n",
    "\n",
    "df_data.drop(\n",
    "    columns=[\n",
    "        'Geography','binnedInc' ],\n",
    "    inplace=True)\n",
    "df_data[np.isnan(df_data)] = 0\n",
    "df_data[np.isinf(df_data)] = 0"
   ]
  },
  {
   "cell_type": "code",
   "execution_count": 146,
   "metadata": {},
   "outputs": [],
   "source": [
    "X  = df_data.iloc[:, 1:].values\n",
    "y =  df_data.iloc[:, 0].values\n",
    "X_train, X_test, y_train, y_test = train_test_split(X, y, test_size=0.2, random_state=0)\n",
    "feat_labels = df_data.columns[1:]"
   ]
  },
  {
   "cell_type": "code",
   "execution_count": 161,
   "metadata": {},
   "outputs": [
    {
     "name": "stdout",
     "output_type": "stream",
     "text": [
      "0.556419232784181\n",
      "349.97379409836066\n"
     ]
    },
    {
     "name": "stderr",
     "output_type": "stream",
     "text": [
      "C:\\Users\\1\\Anaconda3\\lib\\site-packages\\sklearn\\ensemble\\base.py:157: DeprecationWarning: `np.int` is a deprecated alias for the builtin `int`. To silence this warning, use `int` by itself. Doing this will not modify any behavior and is safe. When replacing `np.int`, you may wish to use e.g. `np.int64` or `np.int32` to specify the precision. If you wish to review your current use, check the release note link for additional information.\n",
      "Deprecated in NumPy 1.20; for more details and guidance: https://numpy.org/devdocs/release/1.20.0-notes.html#deprecations\n",
      "  dtype=np.int)\n",
      "C:\\Users\\1\\Anaconda3\\lib\\site-packages\\sklearn\\ensemble\\base.py:157: DeprecationWarning: `np.int` is a deprecated alias for the builtin `int`. To silence this warning, use `int` by itself. Doing this will not modify any behavior and is safe. When replacing `np.int`, you may wish to use e.g. `np.int64` or `np.int32` to specify the precision. If you wish to review your current use, check the release note link for additional information.\n",
      "Deprecated in NumPy 1.20; for more details and guidance: https://numpy.org/devdocs/release/1.20.0-notes.html#deprecations\n",
      "  dtype=np.int)\n"
     ]
    }
   ],
   "source": [
    "# Random forest regression\n",
    "\n",
    "from sklearn.ensemble import RandomForestRegressor\n",
    "\n",
    "model = RandomForestRegressor()\n",
    "model.fit(X_train, y_train)\n",
    "y_test_pred = model.predict(X_test)\n",
    "\n",
    "print(model.score(X_test, y_test))\n",
    "print(mean_squared_error(y_test, y_test_pred))\n"
   ]
  },
  {
   "cell_type": "markdown",
   "metadata": {},
   "source": [
    "#### Feature selection"
   ]
  },
  {
   "cell_type": "code",
   "execution_count": 178,
   "metadata": {},
   "outputs": [
    {
     "name": "stdout",
     "output_type": "stream",
     "text": [
      "importances： [0.02183166 0.03219623 0.19355369 0.0454974  0.02214182 0.03381713\n",
      " 0.0057991  0.01424389 0.01135749 0.01235246 0.02276801 0.01432239\n",
      " 0.01256194 0.02330504 0.00443308 0.01287885 0.03795611 0.21815362\n",
      " 0.01022959 0.02225572 0.03598507 0.00948665 0.01255106 0.00782165\n",
      " 0.02574744 0.01513444 0.02539067 0.01720517 0.03346406 0.02438017\n",
      " 0.02117838]\n",
      " 1) PctBachDeg25_Over              0.218154\n",
      " 2) incidenceRate                  0.193554\n",
      " 3) medIncome                      0.045497\n",
      " 4) PctHS25_Over                   0.037956\n",
      " 5) PctPrivateCoverage             0.035985\n",
      " 6) povertyPercent                 0.033817\n",
      " 7) PctOtherRace                   0.033464\n",
      " 8) avgDeathsPerYear               0.032196\n",
      " 9) PctPublicCoverageAlone         0.025747\n",
      "10) PctBlack                       0.025391\n",
      "11) PctMarriedHouseholds           0.024380\n",
      "12) PctHS18_24                     0.023305\n",
      "13) AvgHouseholdSize               0.022768\n",
      "14) PctUnemployed16_Over           0.022256\n",
      "15) popEst2015                     0.022142\n",
      "16) avgAnnCount                    0.021832\n",
      "17) BirthRate                      0.021178\n",
      "18) PctAsian                       0.017205\n",
      "19) PctWhite                       0.015134\n",
      "20) PercentMarried                 0.014322\n",
      "21) MedianAge                      0.014244\n",
      "22) PctBachDeg18_24                0.012879\n",
      "23) PctNoHS18_24                   0.012562\n",
      "24) PctEmpPrivCoverage             0.012551\n",
      "25) MedianAgeFemale                0.012352\n",
      "26) MedianAgeMale                  0.011357\n",
      "27) PctEmployed16_Over             0.010230\n",
      "28) PctPrivateCoverageAlone        0.009487\n",
      "29) PctPublicCoverage              0.007822\n",
      "30) studyPerCap                    0.005799\n",
      "31) PctSomeCol18_24                0.004433\n",
      "['PctBachDeg25_Over', 'incidenceRate', 'medIncome', 'PctHS25_Over', 'PctPrivateCoverage', 'povertyPercent', 'PctOtherRace', 'avgDeathsPerYear', 'PctPublicCoverageAlone', 'PctBlack', 'PctMarriedHouseholds', 'PctHS18_24', 'AvgHouseholdSize', 'PctUnemployed16_Over', 'popEst2015', 'avgAnnCount', 'BirthRate', 'PctAsian', 'PctWhite', 'PercentMarried', 'MedianAge', 'PctBachDeg18_24', 'PctNoHS18_24', 'PctEmpPrivCoverage', 'MedianAgeFemale', 'MedianAgeMale', 'PctEmployed16_Over', 'PctPrivateCoverageAlone', 'PctPublicCoverage', 'studyPerCap', 'PctSomeCol18_24']\n",
      "31\n",
      "[17  2  3 16 20  5 28  1 24 26 29 13 10 19  4  0 30 27 25 11  7 15 12 22\n",
      "  9  8 18 21 23  6 14]\n"
     ]
    }
   ],
   "source": [
    "# Next, complete the importance assessment for the trained random forest  \n",
    "# feature_importances_ Can be retrieved about the importance of features  \n",
    "\n",
    "importances = model.feature_importances_\n",
    "print(\"importances：\", importances)\n",
    "x_columns = df_data.columns[1:]\n",
    "indices = np.argsort(importances)[::-1]\n",
    "x_columns_indices = []\n",
    "\n",
    "for f in range(X_train.shape[1]):\n",
    "    # For the final need to reverse sort, I think it is a similar decision tree backtracking value, convergence from the leaf\n",
    "# When it comes to roots, roots are more important than leaves.\n",
    "    print(\"%2d) %-*s %f\" % (f + 1, 30, feat_labels[indices[f]], importances[indices[f]]))\n",
    "    x_columns_indices.append(feat_labels[indices[f]])\n",
    " \n",
    "print(x_columns_indices)\n",
    "print(x_columns.shape[0])\n",
    "print(indices)"
   ]
  },
  {
   "cell_type": "code",
   "execution_count": 244,
   "metadata": {},
   "outputs": [
    {
     "data": {
      "image/png": "[encoded data removed]",
      "text/plain": [
       "<Figure size 720x432 with 1 Axes>"
      ]
     },
     "metadata": {
      "needs_background": "light"
     },
     "output_type": "display_data"
    }
   ],
   "source": [
    "\n",
    "# visualization\n",
    " \n",
    "plt.figure(figsize=(10, 6))\n",
    "plt.title(\"The importance of individual features in cancer datasets\", fontsize=18)\n",
    "plt.ylabel(\"import level\", fontsize=15, rotation=90)\n",
    "plt.rcParams['font.sans-serif'] = [\"SimHei\"]\n",
    "plt.rcParams['axes.unicode_minus'] = False\n",
    "for i in range(x_columns.shape[0]):\n",
    "    plt.bar(i, importances[indices[i]], color='orange', align='center')\n",
    "    plt.xticks(np.arange(x_columns.shape[0]), x_columns_indices, rotation=90, fontsize=15)\n",
    "plt.show()"
   ]
  },
  {
   "cell_type": "markdown",
   "metadata": {},
   "source": [
    "### SVM"
   ]
  },
  {
   "cell_type": "code",
   "execution_count": 172,
   "metadata": {},
   "outputs": [
    {
     "name": "stdout",
     "output_type": "stream",
     "text": [
      "<class 'numpy.ndarray'>\n"
     ]
    }
   ],
   "source": [
    "from sklearn.svm import SVR  # Regression algorithm in SVM\n",
    "import pandas as pd\n",
    "from sklearn.model_selection import train_test_split\n",
    "import matplotlib.pyplot as plt\n",
    "import numpy as np\n",
    "# Data preprocessing to make the data more efficient to be recognized by the model or evaluator\n",
    "from sklearn import preprocessing\n",
    "from sklearn.externals import joblib\n",
    " \n",
    "# Import data and do preliminary processing\n",
    "origin_data = pd.read_csv(\"./data/cancer_reg.csv\")\n",
    "origin_data.drop(\n",
    "    columns=[\n",
    "        'Geography','binnedInc' ],\n",
    "    inplace=True)\n",
    "origin_data[np.isnan(df_data)] = 0\n",
    "origin_data[np.isinf(df_data)] = 0\n",
    "X = origin_data.iloc[:,1:].values\n",
    "Y = origin_data.iloc[:,0].values\n",
    "print(type(Y))"
   ]
  },
  {
   "cell_type": "code",
   "execution_count": 186,
   "metadata": {},
   "outputs": [
    {
     "name": "stdout",
     "output_type": "stream",
     "text": [
      "0.4927636407672429\n"
     ]
    }
   ],
   "source": [
    "# General characteristics All characteristics in order of importance\n",
    "\n",
    "all_feature = [17,  2,  3, 16, 20,  5, 28,  1, 24, 26, 29, 13, 10, 19,  4,  0, 30,\n",
    "       27, 25, 11,  7, 15, 12, 22,  9,  8, 18, 21, 23,  6, 14]\n",
    "\n",
    "\n",
    "# Here we take the first eight features.\n",
    "topN_feature = all_feature[:8]\n",
    "\n",
    " \n",
    "# Capture important feature data\n",
    "data_X = X[:,topN_feature]\n",
    " \n",
    "# Normalize each eigenvalue to a fixed range  \n",
    "# Standardization of raw data in order to accelerate convergence  \n",
    "# The min-max normalization transforms the original data linearly to the range [0,1]  \n",
    "data_X = preprocessing.MinMaxScaler().fit_transform(data_X)\n",
    " \n",
    "# Use train_test_split to separate the training set from the test set\n",
    "X_train,X_test,y_train,y_test  = train_test_split(data_X,Y,test_size=0.3)\n",
    " \n",
    "# Prediction through multiple models\n",
    "model_svr1 = SVR(kernel='rbf',C=50,max_iter=10000)\n",
    " \n",
    " \n",
    "\n",
    "# fit\n",
    "model_svr1.fit(X_train,y_train)\n",
    " \n",
    "# score\n",
    "score = model_svr1.score(X_test,y_test)\n",
    "print(score)"
   ]
  },
  {
   "cell_type": "markdown",
   "metadata": {},
   "source": [
    "Obviously, the best prediction effect is random forest. Even though the parameters are optimized, the effect of SVM is not very ideal."
   ]
  },
  {
   "cell_type": "markdown",
   "metadata": {},
   "source": [
    "# Findings"
   ]
  },
  {
   "cell_type": "markdown",
   "metadata": {},
   "source": [
    "## What are your main findings?"
   ]
  },
  {
   "cell_type": "markdown",
   "metadata": {},
   "source": [
    "#The problem itself  \n",
    " \n",
    "\n",
    "Education is important, and the higher the average level of education, the more likely it is to reduce the death rate from cancer. This may be because education is an important measure of inequality, and as the average level of education rises, we might say that the education gap has narrowed, because the number of years of schooling is capped. On the other hand, the improvement of average education level is also a performance of the improvement of comprehensive quality. Both explanations may be important reasons for the negative relationship between them."
   ]
  },
  {
   "cell_type": "markdown",
   "metadata": {},
   "source": [
    "## Are your findings robust to different model specifications?"
   ]
  },
  {
   "cell_type": "markdown",
   "metadata": {},
   "source": [
    "Yes, the results were robust, especially for PctBachDeg25_Over.\n",
    "\n",
    "In several kinds of regression fitting, the significance test has been passed. It is also the most important variable in forecasting."
   ]
  },
  {
   "cell_type": "markdown",
   "metadata": {},
   "source": [
    "# Conclusion"
   ]
  },
  {
   "cell_type": "markdown",
   "metadata": {},
   "source": [
    "## Discuss what we’ve learned from your analysis."
   ]
  },
  {
   "cell_type": "markdown",
   "metadata": {},
   "source": [
    "#### Technical level\n",
    "\n",
    "In regression, if there is a strong correlation between independent variables, VIF test is definitely needed. However, after VIF test, it is not a good decision to directly eliminate the variables with VIF > 10. A better method is to change these variables into a variable through principal component analysis, and then carry out regression.\n",
    "\n",
    "Random forest can overcome the correlation of data itself and has better prediction effect than SVM method after feature selection by RF method.\n",
    "\n"
   ]
  },
  {
   "cell_type": "markdown",
   "metadata": {},
   "source": [
    "## Discuss any questions that could be answered in the future."
   ]
  },
  {
   "cell_type": "markdown",
   "metadata": {},
   "source": [
    "A more detailed discussion of regional income disparities. The data in this paper are mainly based on county data as a whole, only median income. \n",
    "\n",
    "The relationship between regional income distribution and cancer mortality remains to be discussed.\n"
   ]
  }
 ],
 "metadata": {
  "kernelspec": {
   "display_name": "Python 3 (ipykernel)",
   "language": "python",
   "name": "python3"
  },
  "language_info": {
   "codemirror_mode": {
    "name": "ipython",
    "version": 3
   },
   "file_extension": ".py",
   "mimetype": "text/x-python",
   "name": "python",
   "nbconvert_exporter": "python",
   "pygments_lexer": "ipython3",
   "version": "3.9.7"
  },
  "toc": {
   "base_numbering": 1,
   "nav_menu": {},
   "number_sections": true,
   "sideBar": true,
   "skip_h1_title": false,
   "title_cell": "Table of Contents",
   "title_sidebar": "Contents",
   "toc_cell": false,
   "toc_position": {
    "height": "calc(100% - 180px)",
    "left": "10px",
    "top": "150px",
    "width": "529.825px"
   },
   "toc_section_display": true,
   "toc_window_display": true
  }
 },
 "nbformat": 4,
 "nbformat_minor": 4
}
